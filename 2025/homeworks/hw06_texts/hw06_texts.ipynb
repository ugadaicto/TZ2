{
  "cells": [
    {
      "cell_type": "markdown",
      "metadata": {
        "id": "Ffq6A2-ifzAA"
      },
      "source": [
        "# Интеллектуальный анализ данных – весна 2025\n",
        "# Домашнее задание 6: классификация текстов"
      ]
    },
    {
      "cell_type": "markdown",
      "source": [
        "Правила:\n",
        "\n",
        "\n",
        "\n",
        "*   Домашнее задание оценивается в 10 баллов.\n",
        "*   Можно использовать без доказательства любые результаты, встречавшиеся на лекциях или семинарах по курсу, если получение этих результатов не является вопросом задания.\n",
        "*  Можно использовать любые свободные источники с *обязательным* указанием ссылки на них.\n",
        "*  Плагиат не допускается. При обнаружении случаев списывания, 0 за работу выставляется всем участникам нарушения, даже если можно установить, кто у кого списал.\n",
        "*  Старайтесь сделать код как можно более оптимальным. В частности, будет штрафоваться использование циклов в тех случаях, когда операцию можно совершить при помощи инструментов библиотек, о которых рассказывалось в курсе.\n",
        "* Если в задании есть вопрос на рассуждение, то за отсутствие ответа на него балл за задание будет снижен вполовину."
      ],
      "metadata": {
        "id": "EPcxtekTA1Sm"
      }
    },
    {
      "cell_type": "markdown",
      "metadata": {
        "id": "itRtFtrOf0_b"
      },
      "source": [
        "В этом домашнем задании вам предстоит построить классификатор текстов.\n",
        "\n",
        "Будем предсказывать эмоциональную окраску твиттов о коронавирусе.\n",
        "\n"
      ]
    },
    {
      "cell_type": "code",
      "execution_count": 2,
      "metadata": {
        "id": "tNGRVO7_g9mz"
      },
      "outputs": [],
      "source": [
        "import numpy as np\n",
        "import pandas as pd\n",
        "from typing import  List\n",
        "import matplotlib.pyplot as plt\n",
        "import seaborn as sns\n",
        "from string import punctuation"
      ]
    },
    {
      "cell_type": "code",
      "execution_count": 12,
      "metadata": {
        "id": "zOy8iHJQg_Ss",
        "colab": {
          "base_uri": "https://localhost:8080/",
          "height": 363
        },
        "outputId": "e08c77a6-8542-40d7-8790-9092a62350f3"
      },
      "outputs": [
        {
          "output_type": "execute_result",
          "data": {
            "text/plain": [
              "       UserName  ScreenName                Location     TweetAt  \\\n",
              "31961     43112       88064                  Global  12-04-2020   \n",
              "13146     19747       64699        Catalonia, Spain  22-03-2020   \n",
              "30604     41436       86388                 Nigeria  10-04-2020   \n",
              "26732     36579       81531                     NaN  07-04-2020   \n",
              "23240     32197       77149                     NaN  04-04-2020   \n",
              "25341     34834       79786  Tunisian-Mediterranean  06-04-2020   \n",
              "22504     31305       76257         New Jersey, USA  03-04-2020   \n",
              "10459     16490       61442            Pasadena, CA  21-03-2020   \n",
              "23316     32287       77239                     NaN  04-04-2020   \n",
              "25659     35224       80176              Austin, TX  06-04-2020   \n",
              "\n",
              "                                           OriginalTweet           Sentiment  \n",
              "31961  Virtual waiting rooms, such as @queueit, are h...            Positive  \n",
              "13146  Thanks to @amazon pantry! Their prices are 1/7...            Positive  \n",
              "30604  How COVID-19 affected U.S. consumer prices in ...            Negative  \n",
              "26732  This was a first! I've never had to walk into ...            Negative  \n",
              "23240  Experience the only best online shopping   Jus...  Extremely Positive  \n",
              "25341  #coronavirus #foodsecurity #covid19 \\r\\r\\n1. M...            Negative  \n",
              "22504  i been pumping out animated lyric videos crazy...            Negative  \n",
              "10459  #BigAngryPhil #Podcast 153 will drop late toni...            Positive  \n",
              "23316  PSA: They have plenty to do at your local groc...            Negative  \n",
              "25659  About to make my first grocery store run in we...            Negative  "
            ],
            "text/html": [
              "\n",
              "  <div id=\"df-e658009d-2798-4d55-aaa0-cd30bd791511\" class=\"colab-df-container\">\n",
              "    <div>\n",
              "<style scoped>\n",
              "    .dataframe tbody tr th:only-of-type {\n",
              "        vertical-align: middle;\n",
              "    }\n",
              "\n",
              "    .dataframe tbody tr th {\n",
              "        vertical-align: top;\n",
              "    }\n",
              "\n",
              "    .dataframe thead th {\n",
              "        text-align: right;\n",
              "    }\n",
              "</style>\n",
              "<table border=\"1\" class=\"dataframe\">\n",
              "  <thead>\n",
              "    <tr style=\"text-align: right;\">\n",
              "      <th></th>\n",
              "      <th>UserName</th>\n",
              "      <th>ScreenName</th>\n",
              "      <th>Location</th>\n",
              "      <th>TweetAt</th>\n",
              "      <th>OriginalTweet</th>\n",
              "      <th>Sentiment</th>\n",
              "    </tr>\n",
              "  </thead>\n",
              "  <tbody>\n",
              "    <tr>\n",
              "      <th>31961</th>\n",
              "      <td>43112</td>\n",
              "      <td>88064</td>\n",
              "      <td>Global</td>\n",
              "      <td>12-04-2020</td>\n",
              "      <td>Virtual waiting rooms, such as @queueit, are h...</td>\n",
              "      <td>Positive</td>\n",
              "    </tr>\n",
              "    <tr>\n",
              "      <th>13146</th>\n",
              "      <td>19747</td>\n",
              "      <td>64699</td>\n",
              "      <td>Catalonia, Spain</td>\n",
              "      <td>22-03-2020</td>\n",
              "      <td>Thanks to @amazon pantry! Their prices are 1/7...</td>\n",
              "      <td>Positive</td>\n",
              "    </tr>\n",
              "    <tr>\n",
              "      <th>30604</th>\n",
              "      <td>41436</td>\n",
              "      <td>86388</td>\n",
              "      <td>Nigeria</td>\n",
              "      <td>10-04-2020</td>\n",
              "      <td>How COVID-19 affected U.S. consumer prices in ...</td>\n",
              "      <td>Negative</td>\n",
              "    </tr>\n",
              "    <tr>\n",
              "      <th>26732</th>\n",
              "      <td>36579</td>\n",
              "      <td>81531</td>\n",
              "      <td>NaN</td>\n",
              "      <td>07-04-2020</td>\n",
              "      <td>This was a first! I've never had to walk into ...</td>\n",
              "      <td>Negative</td>\n",
              "    </tr>\n",
              "    <tr>\n",
              "      <th>23240</th>\n",
              "      <td>32197</td>\n",
              "      <td>77149</td>\n",
              "      <td>NaN</td>\n",
              "      <td>04-04-2020</td>\n",
              "      <td>Experience the only best online shopping   Jus...</td>\n",
              "      <td>Extremely Positive</td>\n",
              "    </tr>\n",
              "    <tr>\n",
              "      <th>25341</th>\n",
              "      <td>34834</td>\n",
              "      <td>79786</td>\n",
              "      <td>Tunisian-Mediterranean</td>\n",
              "      <td>06-04-2020</td>\n",
              "      <td>#coronavirus #foodsecurity #covid19 \\r\\r\\n1. M...</td>\n",
              "      <td>Negative</td>\n",
              "    </tr>\n",
              "    <tr>\n",
              "      <th>22504</th>\n",
              "      <td>31305</td>\n",
              "      <td>76257</td>\n",
              "      <td>New Jersey, USA</td>\n",
              "      <td>03-04-2020</td>\n",
              "      <td>i been pumping out animated lyric videos crazy...</td>\n",
              "      <td>Negative</td>\n",
              "    </tr>\n",
              "    <tr>\n",
              "      <th>10459</th>\n",
              "      <td>16490</td>\n",
              "      <td>61442</td>\n",
              "      <td>Pasadena, CA</td>\n",
              "      <td>21-03-2020</td>\n",
              "      <td>#BigAngryPhil #Podcast 153 will drop late toni...</td>\n",
              "      <td>Positive</td>\n",
              "    </tr>\n",
              "    <tr>\n",
              "      <th>23316</th>\n",
              "      <td>32287</td>\n",
              "      <td>77239</td>\n",
              "      <td>NaN</td>\n",
              "      <td>04-04-2020</td>\n",
              "      <td>PSA: They have plenty to do at your local groc...</td>\n",
              "      <td>Negative</td>\n",
              "    </tr>\n",
              "    <tr>\n",
              "      <th>25659</th>\n",
              "      <td>35224</td>\n",
              "      <td>80176</td>\n",
              "      <td>Austin, TX</td>\n",
              "      <td>06-04-2020</td>\n",
              "      <td>About to make my first grocery store run in we...</td>\n",
              "      <td>Negative</td>\n",
              "    </tr>\n",
              "  </tbody>\n",
              "</table>\n",
              "</div>\n",
              "    <div class=\"colab-df-buttons\">\n",
              "\n",
              "  <div class=\"colab-df-container\">\n",
              "    <button class=\"colab-df-convert\" onclick=\"convertToInteractive('df-e658009d-2798-4d55-aaa0-cd30bd791511')\"\n",
              "            title=\"Convert this dataframe to an interactive table.\"\n",
              "            style=\"display:none;\">\n",
              "\n",
              "  <svg xmlns=\"http://www.w3.org/2000/svg\" height=\"24px\" viewBox=\"0 -960 960 960\">\n",
              "    <path d=\"M120-120v-720h720v720H120Zm60-500h600v-160H180v160Zm220 220h160v-160H400v160Zm0 220h160v-160H400v160ZM180-400h160v-160H180v160Zm440 0h160v-160H620v160ZM180-180h160v-160H180v160Zm440 0h160v-160H620v160Z\"/>\n",
              "  </svg>\n",
              "    </button>\n",
              "\n",
              "  <style>\n",
              "    .colab-df-container {\n",
              "      display:flex;\n",
              "      gap: 12px;\n",
              "    }\n",
              "\n",
              "    .colab-df-convert {\n",
              "      background-color: #E8F0FE;\n",
              "      border: none;\n",
              "      border-radius: 50%;\n",
              "      cursor: pointer;\n",
              "      display: none;\n",
              "      fill: #1967D2;\n",
              "      height: 32px;\n",
              "      padding: 0 0 0 0;\n",
              "      width: 32px;\n",
              "    }\n",
              "\n",
              "    .colab-df-convert:hover {\n",
              "      background-color: #E2EBFA;\n",
              "      box-shadow: 0px 1px 2px rgba(60, 64, 67, 0.3), 0px 1px 3px 1px rgba(60, 64, 67, 0.15);\n",
              "      fill: #174EA6;\n",
              "    }\n",
              "\n",
              "    .colab-df-buttons div {\n",
              "      margin-bottom: 4px;\n",
              "    }\n",
              "\n",
              "    [theme=dark] .colab-df-convert {\n",
              "      background-color: #3B4455;\n",
              "      fill: #D2E3FC;\n",
              "    }\n",
              "\n",
              "    [theme=dark] .colab-df-convert:hover {\n",
              "      background-color: #434B5C;\n",
              "      box-shadow: 0px 1px 3px 1px rgba(0, 0, 0, 0.15);\n",
              "      filter: drop-shadow(0px 1px 2px rgba(0, 0, 0, 0.3));\n",
              "      fill: #FFFFFF;\n",
              "    }\n",
              "  </style>\n",
              "\n",
              "    <script>\n",
              "      const buttonEl =\n",
              "        document.querySelector('#df-e658009d-2798-4d55-aaa0-cd30bd791511 button.colab-df-convert');\n",
              "      buttonEl.style.display =\n",
              "        google.colab.kernel.accessAllowed ? 'block' : 'none';\n",
              "\n",
              "      async function convertToInteractive(key) {\n",
              "        const element = document.querySelector('#df-e658009d-2798-4d55-aaa0-cd30bd791511');\n",
              "        const dataTable =\n",
              "          await google.colab.kernel.invokeFunction('convertToInteractive',\n",
              "                                                    [key], {});\n",
              "        if (!dataTable) return;\n",
              "\n",
              "        const docLinkHtml = 'Like what you see? Visit the ' +\n",
              "          '<a target=\"_blank\" href=https://colab.research.google.com/notebooks/data_table.ipynb>data table notebook</a>'\n",
              "          + ' to learn more about interactive tables.';\n",
              "        element.innerHTML = '';\n",
              "        dataTable['output_type'] = 'display_data';\n",
              "        await google.colab.output.renderOutput(dataTable, element);\n",
              "        const docLink = document.createElement('div');\n",
              "        docLink.innerHTML = docLinkHtml;\n",
              "        element.appendChild(docLink);\n",
              "      }\n",
              "    </script>\n",
              "  </div>\n",
              "\n",
              "\n",
              "    <div id=\"df-70ab6502-1351-42b0-9586-de1bd445c0bd\">\n",
              "      <button class=\"colab-df-quickchart\" onclick=\"quickchart('df-70ab6502-1351-42b0-9586-de1bd445c0bd')\"\n",
              "                title=\"Suggest charts\"\n",
              "                style=\"display:none;\">\n",
              "\n",
              "<svg xmlns=\"http://www.w3.org/2000/svg\" height=\"24px\"viewBox=\"0 0 24 24\"\n",
              "     width=\"24px\">\n",
              "    <g>\n",
              "        <path d=\"M19 3H5c-1.1 0-2 .9-2 2v14c0 1.1.9 2 2 2h14c1.1 0 2-.9 2-2V5c0-1.1-.9-2-2-2zM9 17H7v-7h2v7zm4 0h-2V7h2v10zm4 0h-2v-4h2v4z\"/>\n",
              "    </g>\n",
              "</svg>\n",
              "      </button>\n",
              "\n",
              "<style>\n",
              "  .colab-df-quickchart {\n",
              "      --bg-color: #E8F0FE;\n",
              "      --fill-color: #1967D2;\n",
              "      --hover-bg-color: #E2EBFA;\n",
              "      --hover-fill-color: #174EA6;\n",
              "      --disabled-fill-color: #AAA;\n",
              "      --disabled-bg-color: #DDD;\n",
              "  }\n",
              "\n",
              "  [theme=dark] .colab-df-quickchart {\n",
              "      --bg-color: #3B4455;\n",
              "      --fill-color: #D2E3FC;\n",
              "      --hover-bg-color: #434B5C;\n",
              "      --hover-fill-color: #FFFFFF;\n",
              "      --disabled-bg-color: #3B4455;\n",
              "      --disabled-fill-color: #666;\n",
              "  }\n",
              "\n",
              "  .colab-df-quickchart {\n",
              "    background-color: var(--bg-color);\n",
              "    border: none;\n",
              "    border-radius: 50%;\n",
              "    cursor: pointer;\n",
              "    display: none;\n",
              "    fill: var(--fill-color);\n",
              "    height: 32px;\n",
              "    padding: 0;\n",
              "    width: 32px;\n",
              "  }\n",
              "\n",
              "  .colab-df-quickchart:hover {\n",
              "    background-color: var(--hover-bg-color);\n",
              "    box-shadow: 0 1px 2px rgba(60, 64, 67, 0.3), 0 1px 3px 1px rgba(60, 64, 67, 0.15);\n",
              "    fill: var(--button-hover-fill-color);\n",
              "  }\n",
              "\n",
              "  .colab-df-quickchart-complete:disabled,\n",
              "  .colab-df-quickchart-complete:disabled:hover {\n",
              "    background-color: var(--disabled-bg-color);\n",
              "    fill: var(--disabled-fill-color);\n",
              "    box-shadow: none;\n",
              "  }\n",
              "\n",
              "  .colab-df-spinner {\n",
              "    border: 2px solid var(--fill-color);\n",
              "    border-color: transparent;\n",
              "    border-bottom-color: var(--fill-color);\n",
              "    animation:\n",
              "      spin 1s steps(1) infinite;\n",
              "  }\n",
              "\n",
              "  @keyframes spin {\n",
              "    0% {\n",
              "      border-color: transparent;\n",
              "      border-bottom-color: var(--fill-color);\n",
              "      border-left-color: var(--fill-color);\n",
              "    }\n",
              "    20% {\n",
              "      border-color: transparent;\n",
              "      border-left-color: var(--fill-color);\n",
              "      border-top-color: var(--fill-color);\n",
              "    }\n",
              "    30% {\n",
              "      border-color: transparent;\n",
              "      border-left-color: var(--fill-color);\n",
              "      border-top-color: var(--fill-color);\n",
              "      border-right-color: var(--fill-color);\n",
              "    }\n",
              "    40% {\n",
              "      border-color: transparent;\n",
              "      border-right-color: var(--fill-color);\n",
              "      border-top-color: var(--fill-color);\n",
              "    }\n",
              "    60% {\n",
              "      border-color: transparent;\n",
              "      border-right-color: var(--fill-color);\n",
              "    }\n",
              "    80% {\n",
              "      border-color: transparent;\n",
              "      border-right-color: var(--fill-color);\n",
              "      border-bottom-color: var(--fill-color);\n",
              "    }\n",
              "    90% {\n",
              "      border-color: transparent;\n",
              "      border-bottom-color: var(--fill-color);\n",
              "    }\n",
              "  }\n",
              "</style>\n",
              "\n",
              "      <script>\n",
              "        async function quickchart(key) {\n",
              "          const quickchartButtonEl =\n",
              "            document.querySelector('#' + key + ' button');\n",
              "          quickchartButtonEl.disabled = true;  // To prevent multiple clicks.\n",
              "          quickchartButtonEl.classList.add('colab-df-spinner');\n",
              "          try {\n",
              "            const charts = await google.colab.kernel.invokeFunction(\n",
              "                'suggestCharts', [key], {});\n",
              "          } catch (error) {\n",
              "            console.error('Error during call to suggestCharts:', error);\n",
              "          }\n",
              "          quickchartButtonEl.classList.remove('colab-df-spinner');\n",
              "          quickchartButtonEl.classList.add('colab-df-quickchart-complete');\n",
              "        }\n",
              "        (() => {\n",
              "          let quickchartButtonEl =\n",
              "            document.querySelector('#df-70ab6502-1351-42b0-9586-de1bd445c0bd button');\n",
              "          quickchartButtonEl.style.display =\n",
              "            google.colab.kernel.accessAllowed ? 'block' : 'none';\n",
              "        })();\n",
              "      </script>\n",
              "    </div>\n",
              "    </div>\n",
              "  </div>\n"
            ],
            "application/vnd.google.colaboratory.intrinsic+json": {
              "type": "dataframe",
              "summary": "{\n  \"name\": \"df\",\n  \"rows\": 10,\n  \"fields\": [\n    {\n      \"column\": \"UserName\",\n      \"properties\": {\n        \"dtype\": \"number\",\n        \"std\": 8447,\n        \"min\": 16490,\n        \"max\": 43112,\n        \"num_unique_values\": 10,\n        \"samples\": [\n          32287,\n          19747,\n          34834\n        ],\n        \"semantic_type\": \"\",\n        \"description\": \"\"\n      }\n    },\n    {\n      \"column\": \"ScreenName\",\n      \"properties\": {\n        \"dtype\": \"number\",\n        \"std\": 8447,\n        \"min\": 61442,\n        \"max\": 88064,\n        \"num_unique_values\": 10,\n        \"samples\": [\n          77239,\n          64699,\n          79786\n        ],\n        \"semantic_type\": \"\",\n        \"description\": \"\"\n      }\n    },\n    {\n      \"column\": \"Location\",\n      \"properties\": {\n        \"dtype\": \"string\",\n        \"num_unique_values\": 7,\n        \"samples\": [\n          \"Global\",\n          \"Catalonia, Spain\",\n          \"Pasadena, CA\"\n        ],\n        \"semantic_type\": \"\",\n        \"description\": \"\"\n      }\n    },\n    {\n      \"column\": \"TweetAt\",\n      \"properties\": {\n        \"dtype\": \"string\",\n        \"num_unique_values\": 8,\n        \"samples\": [\n          \"22-03-2020\",\n          \"06-04-2020\",\n          \"12-04-2020\"\n        ],\n        \"semantic_type\": \"\",\n        \"description\": \"\"\n      }\n    },\n    {\n      \"column\": \"OriginalTweet\",\n      \"properties\": {\n        \"dtype\": \"string\",\n        \"num_unique_values\": 10,\n        \"samples\": [\n          \"PSA: They have plenty to do at your local grocery store, adding to their list picking up your used gloves makes you a crappy human.  #Covid_19 https://t.co/Bl1LRbPU2U\",\n          \"Thanks to @amazon pantry! Their prices are 1/7 of the price of the other suppliers! However I can't believe @EspanaAmazon would allow such corruption! #Spain #SpainLockDown #toiletpaper #Amazon #amazonpantry #Corruption #coronavirus #COVID?19 \\r\\r\\nhttps://t.co/kagekupLdP\",\n          \"#coronavirus #foodsecurity #covid19 \\r\\r\\n1. Monitor food prices and markets. Transparent dissemination of information will strengthen government management over the food market, prevent people from panicking, and guide farmers to make\\u00c3\\u0082\\u00c2\\u0085https://t.co/UCRLVKRUoy https://t.co/QxpyeEHtGJ\"\n        ],\n        \"semantic_type\": \"\",\n        \"description\": \"\"\n      }\n    },\n    {\n      \"column\": \"Sentiment\",\n      \"properties\": {\n        \"dtype\": \"category\",\n        \"num_unique_values\": 3,\n        \"samples\": [\n          \"Positive\",\n          \"Negative\",\n          \"Extremely Positive\"\n        ],\n        \"semantic_type\": \"\",\n        \"description\": \"\"\n      }\n    }\n  ]\n}"
            }
          },
          "metadata": {},
          "execution_count": 12
        }
      ],
      "source": [
        "df = pd.read_csv('tweets_coronavirus.csv', encoding='latin-1', on_bad_lines='warn')\n",
        "df.sample(10)"
      ]
    },
    {
      "cell_type": "markdown",
      "metadata": {
        "id": "m2OiDog9ZBlS"
      },
      "source": [
        "Для каждого твитта указано:\n",
        "\n",
        "\n",
        "*   UserName - имя пользователя, заменено на целое число для анонимности\n",
        "*   ScreenName - отображающееся имя пользователя, заменено на целое число для анонимности\n",
        "*   Location - местоположение\n",
        "*   TweetAt - дата создания твитта\n",
        "*   OriginalTweet - текст твитта\n",
        "*   Sentiment - эмоциональная окраска твитта (целевая переменная)\n",
        "\n"
      ]
    },
    {
      "cell_type": "markdown",
      "metadata": {
        "id": "pZTMseDkhTC7"
      },
      "source": [
        "## Задание 1 Подготовка (0.5 балла)"
      ]
    },
    {
      "cell_type": "markdown",
      "metadata": {
        "id": "Xx2-odn9hdAW"
      },
      "source": [
        "Целевая переменная находится в колонке `Sentiment`.  Преобразуйте ее таким образом, чтобы она стала бинарной: 1 - если у твитта положительная или очень положительная эмоциональная окраска и 0 - если отрицательная или очень отрицательная."
      ]
    },
    {
      "cell_type": "code",
      "execution_count": 13,
      "metadata": {
        "id": "ZaQKQ1zEjP15",
        "outputId": "6ce3f31a-3ec6-421d-ac81-5216d2b07e3e",
        "colab": {
          "base_uri": "https://localhost:8080/",
          "height": 363
        }
      },
      "outputs": [
        {
          "output_type": "execute_result",
          "data": {
            "text/plain": [
              "       UserName  ScreenName                 Location     TweetAt  \\\n",
              "30652     41499       86451  Milano, Bruxelles, Roma  10-04-2020   \n",
              "5372      10326       55278    South Dublin, Ireland  19-03-2020   \n",
              "32123     43316       88268                      NaN  13-04-2020   \n",
              "5092       9989       54941            la la land uk  19-03-2020   \n",
              "1512       5631       50583       League City, Texas  17-03-2020   \n",
              "6423      11603       56555     Text RESIST to 50409  19-03-2020   \n",
              "20391     28680       73632          Sidmouth, Devon  27-03-2020   \n",
              "21195     29647       74599                 Delaware  01-04-2020   \n",
              "8026      13552       58504         Vancouver Canada  20-03-2020   \n",
              "6936      12235       57187                      NaN  19-03-2020   \n",
              "\n",
              "                                           OriginalTweet  Sentiment  \n",
              "30652  JUST Newsroom - COVID-19: Commissioner Reynder...          1  \n",
              "5372   #coronavirus has caused global travel to colla...          0  \n",
              "32123  Japanese are not yet in danger of coronavirus....          1  \n",
              "5092   If we are locked down we have tv,books, netfli...          1  \n",
              "1512   Price gouging is illegal since Governor Abbott...          0  \n",
              "6423   ? Support Erin by signing ÃÂCovid-19 Panic M...          0  \n",
              "20391  Sid Vale food bank appeals for donations as co...          0  \n",
              "21195  People across the country are learning to cope...          0  \n",
              "8026   Huntsville leaders encourage residents to supp...          1  \n",
              "6936   ppl be shitting on Asians hardcore now with al...          0  "
            ],
            "text/html": [
              "\n",
              "  <div id=\"df-19a6bfe9-b77d-4f47-b2f9-11edb6625002\" class=\"colab-df-container\">\n",
              "    <div>\n",
              "<style scoped>\n",
              "    .dataframe tbody tr th:only-of-type {\n",
              "        vertical-align: middle;\n",
              "    }\n",
              "\n",
              "    .dataframe tbody tr th {\n",
              "        vertical-align: top;\n",
              "    }\n",
              "\n",
              "    .dataframe thead th {\n",
              "        text-align: right;\n",
              "    }\n",
              "</style>\n",
              "<table border=\"1\" class=\"dataframe\">\n",
              "  <thead>\n",
              "    <tr style=\"text-align: right;\">\n",
              "      <th></th>\n",
              "      <th>UserName</th>\n",
              "      <th>ScreenName</th>\n",
              "      <th>Location</th>\n",
              "      <th>TweetAt</th>\n",
              "      <th>OriginalTweet</th>\n",
              "      <th>Sentiment</th>\n",
              "    </tr>\n",
              "  </thead>\n",
              "  <tbody>\n",
              "    <tr>\n",
              "      <th>30652</th>\n",
              "      <td>41499</td>\n",
              "      <td>86451</td>\n",
              "      <td>Milano, Bruxelles, Roma</td>\n",
              "      <td>10-04-2020</td>\n",
              "      <td>JUST Newsroom - COVID-19: Commissioner Reynder...</td>\n",
              "      <td>1</td>\n",
              "    </tr>\n",
              "    <tr>\n",
              "      <th>5372</th>\n",
              "      <td>10326</td>\n",
              "      <td>55278</td>\n",
              "      <td>South Dublin, Ireland</td>\n",
              "      <td>19-03-2020</td>\n",
              "      <td>#coronavirus has caused global travel to colla...</td>\n",
              "      <td>0</td>\n",
              "    </tr>\n",
              "    <tr>\n",
              "      <th>32123</th>\n",
              "      <td>43316</td>\n",
              "      <td>88268</td>\n",
              "      <td>NaN</td>\n",
              "      <td>13-04-2020</td>\n",
              "      <td>Japanese are not yet in danger of coronavirus....</td>\n",
              "      <td>1</td>\n",
              "    </tr>\n",
              "    <tr>\n",
              "      <th>5092</th>\n",
              "      <td>9989</td>\n",
              "      <td>54941</td>\n",
              "      <td>la la land uk</td>\n",
              "      <td>19-03-2020</td>\n",
              "      <td>If we are locked down we have tv,books, netfli...</td>\n",
              "      <td>1</td>\n",
              "    </tr>\n",
              "    <tr>\n",
              "      <th>1512</th>\n",
              "      <td>5631</td>\n",
              "      <td>50583</td>\n",
              "      <td>League City, Texas</td>\n",
              "      <td>17-03-2020</td>\n",
              "      <td>Price gouging is illegal since Governor Abbott...</td>\n",
              "      <td>0</td>\n",
              "    </tr>\n",
              "    <tr>\n",
              "      <th>6423</th>\n",
              "      <td>11603</td>\n",
              "      <td>56555</td>\n",
              "      <td>Text RESIST to 50409</td>\n",
              "      <td>19-03-2020</td>\n",
              "      <td>? Support Erin by signing ÃÂCovid-19 Panic M...</td>\n",
              "      <td>0</td>\n",
              "    </tr>\n",
              "    <tr>\n",
              "      <th>20391</th>\n",
              "      <td>28680</td>\n",
              "      <td>73632</td>\n",
              "      <td>Sidmouth, Devon</td>\n",
              "      <td>27-03-2020</td>\n",
              "      <td>Sid Vale food bank appeals for donations as co...</td>\n",
              "      <td>0</td>\n",
              "    </tr>\n",
              "    <tr>\n",
              "      <th>21195</th>\n",
              "      <td>29647</td>\n",
              "      <td>74599</td>\n",
              "      <td>Delaware</td>\n",
              "      <td>01-04-2020</td>\n",
              "      <td>People across the country are learning to cope...</td>\n",
              "      <td>0</td>\n",
              "    </tr>\n",
              "    <tr>\n",
              "      <th>8026</th>\n",
              "      <td>13552</td>\n",
              "      <td>58504</td>\n",
              "      <td>Vancouver Canada</td>\n",
              "      <td>20-03-2020</td>\n",
              "      <td>Huntsville leaders encourage residents to supp...</td>\n",
              "      <td>1</td>\n",
              "    </tr>\n",
              "    <tr>\n",
              "      <th>6936</th>\n",
              "      <td>12235</td>\n",
              "      <td>57187</td>\n",
              "      <td>NaN</td>\n",
              "      <td>19-03-2020</td>\n",
              "      <td>ppl be shitting on Asians hardcore now with al...</td>\n",
              "      <td>0</td>\n",
              "    </tr>\n",
              "  </tbody>\n",
              "</table>\n",
              "</div>\n",
              "    <div class=\"colab-df-buttons\">\n",
              "\n",
              "  <div class=\"colab-df-container\">\n",
              "    <button class=\"colab-df-convert\" onclick=\"convertToInteractive('df-19a6bfe9-b77d-4f47-b2f9-11edb6625002')\"\n",
              "            title=\"Convert this dataframe to an interactive table.\"\n",
              "            style=\"display:none;\">\n",
              "\n",
              "  <svg xmlns=\"http://www.w3.org/2000/svg\" height=\"24px\" viewBox=\"0 -960 960 960\">\n",
              "    <path d=\"M120-120v-720h720v720H120Zm60-500h600v-160H180v160Zm220 220h160v-160H400v160Zm0 220h160v-160H400v160ZM180-400h160v-160H180v160Zm440 0h160v-160H620v160ZM180-180h160v-160H180v160Zm440 0h160v-160H620v160Z\"/>\n",
              "  </svg>\n",
              "    </button>\n",
              "\n",
              "  <style>\n",
              "    .colab-df-container {\n",
              "      display:flex;\n",
              "      gap: 12px;\n",
              "    }\n",
              "\n",
              "    .colab-df-convert {\n",
              "      background-color: #E8F0FE;\n",
              "      border: none;\n",
              "      border-radius: 50%;\n",
              "      cursor: pointer;\n",
              "      display: none;\n",
              "      fill: #1967D2;\n",
              "      height: 32px;\n",
              "      padding: 0 0 0 0;\n",
              "      width: 32px;\n",
              "    }\n",
              "\n",
              "    .colab-df-convert:hover {\n",
              "      background-color: #E2EBFA;\n",
              "      box-shadow: 0px 1px 2px rgba(60, 64, 67, 0.3), 0px 1px 3px 1px rgba(60, 64, 67, 0.15);\n",
              "      fill: #174EA6;\n",
              "    }\n",
              "\n",
              "    .colab-df-buttons div {\n",
              "      margin-bottom: 4px;\n",
              "    }\n",
              "\n",
              "    [theme=dark] .colab-df-convert {\n",
              "      background-color: #3B4455;\n",
              "      fill: #D2E3FC;\n",
              "    }\n",
              "\n",
              "    [theme=dark] .colab-df-convert:hover {\n",
              "      background-color: #434B5C;\n",
              "      box-shadow: 0px 1px 3px 1px rgba(0, 0, 0, 0.15);\n",
              "      filter: drop-shadow(0px 1px 2px rgba(0, 0, 0, 0.3));\n",
              "      fill: #FFFFFF;\n",
              "    }\n",
              "  </style>\n",
              "\n",
              "    <script>\n",
              "      const buttonEl =\n",
              "        document.querySelector('#df-19a6bfe9-b77d-4f47-b2f9-11edb6625002 button.colab-df-convert');\n",
              "      buttonEl.style.display =\n",
              "        google.colab.kernel.accessAllowed ? 'block' : 'none';\n",
              "\n",
              "      async function convertToInteractive(key) {\n",
              "        const element = document.querySelector('#df-19a6bfe9-b77d-4f47-b2f9-11edb6625002');\n",
              "        const dataTable =\n",
              "          await google.colab.kernel.invokeFunction('convertToInteractive',\n",
              "                                                    [key], {});\n",
              "        if (!dataTable) return;\n",
              "\n",
              "        const docLinkHtml = 'Like what you see? Visit the ' +\n",
              "          '<a target=\"_blank\" href=https://colab.research.google.com/notebooks/data_table.ipynb>data table notebook</a>'\n",
              "          + ' to learn more about interactive tables.';\n",
              "        element.innerHTML = '';\n",
              "        dataTable['output_type'] = 'display_data';\n",
              "        await google.colab.output.renderOutput(dataTable, element);\n",
              "        const docLink = document.createElement('div');\n",
              "        docLink.innerHTML = docLinkHtml;\n",
              "        element.appendChild(docLink);\n",
              "      }\n",
              "    </script>\n",
              "  </div>\n",
              "\n",
              "\n",
              "    <div id=\"df-2bb6c37f-bdfd-4696-9d30-c232c66c1230\">\n",
              "      <button class=\"colab-df-quickchart\" onclick=\"quickchart('df-2bb6c37f-bdfd-4696-9d30-c232c66c1230')\"\n",
              "                title=\"Suggest charts\"\n",
              "                style=\"display:none;\">\n",
              "\n",
              "<svg xmlns=\"http://www.w3.org/2000/svg\" height=\"24px\"viewBox=\"0 0 24 24\"\n",
              "     width=\"24px\">\n",
              "    <g>\n",
              "        <path d=\"M19 3H5c-1.1 0-2 .9-2 2v14c0 1.1.9 2 2 2h14c1.1 0 2-.9 2-2V5c0-1.1-.9-2-2-2zM9 17H7v-7h2v7zm4 0h-2V7h2v10zm4 0h-2v-4h2v4z\"/>\n",
              "    </g>\n",
              "</svg>\n",
              "      </button>\n",
              "\n",
              "<style>\n",
              "  .colab-df-quickchart {\n",
              "      --bg-color: #E8F0FE;\n",
              "      --fill-color: #1967D2;\n",
              "      --hover-bg-color: #E2EBFA;\n",
              "      --hover-fill-color: #174EA6;\n",
              "      --disabled-fill-color: #AAA;\n",
              "      --disabled-bg-color: #DDD;\n",
              "  }\n",
              "\n",
              "  [theme=dark] .colab-df-quickchart {\n",
              "      --bg-color: #3B4455;\n",
              "      --fill-color: #D2E3FC;\n",
              "      --hover-bg-color: #434B5C;\n",
              "      --hover-fill-color: #FFFFFF;\n",
              "      --disabled-bg-color: #3B4455;\n",
              "      --disabled-fill-color: #666;\n",
              "  }\n",
              "\n",
              "  .colab-df-quickchart {\n",
              "    background-color: var(--bg-color);\n",
              "    border: none;\n",
              "    border-radius: 50%;\n",
              "    cursor: pointer;\n",
              "    display: none;\n",
              "    fill: var(--fill-color);\n",
              "    height: 32px;\n",
              "    padding: 0;\n",
              "    width: 32px;\n",
              "  }\n",
              "\n",
              "  .colab-df-quickchart:hover {\n",
              "    background-color: var(--hover-bg-color);\n",
              "    box-shadow: 0 1px 2px rgba(60, 64, 67, 0.3), 0 1px 3px 1px rgba(60, 64, 67, 0.15);\n",
              "    fill: var(--button-hover-fill-color);\n",
              "  }\n",
              "\n",
              "  .colab-df-quickchart-complete:disabled,\n",
              "  .colab-df-quickchart-complete:disabled:hover {\n",
              "    background-color: var(--disabled-bg-color);\n",
              "    fill: var(--disabled-fill-color);\n",
              "    box-shadow: none;\n",
              "  }\n",
              "\n",
              "  .colab-df-spinner {\n",
              "    border: 2px solid var(--fill-color);\n",
              "    border-color: transparent;\n",
              "    border-bottom-color: var(--fill-color);\n",
              "    animation:\n",
              "      spin 1s steps(1) infinite;\n",
              "  }\n",
              "\n",
              "  @keyframes spin {\n",
              "    0% {\n",
              "      border-color: transparent;\n",
              "      border-bottom-color: var(--fill-color);\n",
              "      border-left-color: var(--fill-color);\n",
              "    }\n",
              "    20% {\n",
              "      border-color: transparent;\n",
              "      border-left-color: var(--fill-color);\n",
              "      border-top-color: var(--fill-color);\n",
              "    }\n",
              "    30% {\n",
              "      border-color: transparent;\n",
              "      border-left-color: var(--fill-color);\n",
              "      border-top-color: var(--fill-color);\n",
              "      border-right-color: var(--fill-color);\n",
              "    }\n",
              "    40% {\n",
              "      border-color: transparent;\n",
              "      border-right-color: var(--fill-color);\n",
              "      border-top-color: var(--fill-color);\n",
              "    }\n",
              "    60% {\n",
              "      border-color: transparent;\n",
              "      border-right-color: var(--fill-color);\n",
              "    }\n",
              "    80% {\n",
              "      border-color: transparent;\n",
              "      border-right-color: var(--fill-color);\n",
              "      border-bottom-color: var(--fill-color);\n",
              "    }\n",
              "    90% {\n",
              "      border-color: transparent;\n",
              "      border-bottom-color: var(--fill-color);\n",
              "    }\n",
              "  }\n",
              "</style>\n",
              "\n",
              "      <script>\n",
              "        async function quickchart(key) {\n",
              "          const quickchartButtonEl =\n",
              "            document.querySelector('#' + key + ' button');\n",
              "          quickchartButtonEl.disabled = true;  // To prevent multiple clicks.\n",
              "          quickchartButtonEl.classList.add('colab-df-spinner');\n",
              "          try {\n",
              "            const charts = await google.colab.kernel.invokeFunction(\n",
              "                'suggestCharts', [key], {});\n",
              "          } catch (error) {\n",
              "            console.error('Error during call to suggestCharts:', error);\n",
              "          }\n",
              "          quickchartButtonEl.classList.remove('colab-df-spinner');\n",
              "          quickchartButtonEl.classList.add('colab-df-quickchart-complete');\n",
              "        }\n",
              "        (() => {\n",
              "          let quickchartButtonEl =\n",
              "            document.querySelector('#df-2bb6c37f-bdfd-4696-9d30-c232c66c1230 button');\n",
              "          quickchartButtonEl.style.display =\n",
              "            google.colab.kernel.accessAllowed ? 'block' : 'none';\n",
              "        })();\n",
              "      </script>\n",
              "    </div>\n",
              "    </div>\n",
              "  </div>\n"
            ],
            "application/vnd.google.colaboratory.intrinsic+json": {
              "type": "dataframe",
              "summary": "{\n  \"name\": \"df\",\n  \"rows\": 10,\n  \"fields\": [\n    {\n      \"column\": \"UserName\",\n      \"properties\": {\n        \"dtype\": \"number\",\n        \"std\": 13915,\n        \"min\": 5631,\n        \"max\": 43316,\n        \"num_unique_values\": 10,\n        \"samples\": [\n          13552,\n          10326,\n          11603\n        ],\n        \"semantic_type\": \"\",\n        \"description\": \"\"\n      }\n    },\n    {\n      \"column\": \"ScreenName\",\n      \"properties\": {\n        \"dtype\": \"number\",\n        \"std\": 13915,\n        \"min\": 50583,\n        \"max\": 88268,\n        \"num_unique_values\": 10,\n        \"samples\": [\n          58504,\n          55278,\n          56555\n        ],\n        \"semantic_type\": \"\",\n        \"description\": \"\"\n      }\n    },\n    {\n      \"column\": \"Location\",\n      \"properties\": {\n        \"dtype\": \"string\",\n        \"num_unique_values\": 8,\n        \"samples\": [\n          \"South Dublin, Ireland\",\n          \"Sidmouth, Devon\",\n          \"Milano, Bruxelles, Roma\"\n        ],\n        \"semantic_type\": \"\",\n        \"description\": \"\"\n      }\n    },\n    {\n      \"column\": \"TweetAt\",\n      \"properties\": {\n        \"dtype\": \"string\",\n        \"num_unique_values\": 7,\n        \"samples\": [\n          \"10-04-2020\",\n          \"19-03-2020\",\n          \"01-04-2020\"\n        ],\n        \"semantic_type\": \"\",\n        \"description\": \"\"\n      }\n    },\n    {\n      \"column\": \"OriginalTweet\",\n      \"properties\": {\n        \"dtype\": \"string\",\n        \"num_unique_values\": 10,\n        \"samples\": [\n          \"Huntsville leaders encourage residents to support local businesses through online shopping during COVID-19 pandemic  #OnlineShopping #Ecommerce [Video] https://t.co/0sgjny4ePJ https://t.co/ngCZLE0fwd\",\n          \"#coronavirus has caused global travel to collapse, eating into the world's once-insatiable thirst for oil, which powers the economy. Countless flights have been canceled. The cruise ships are at a standstill. Highways are empty. And many factories are dark https://t.co/eIqjTbZk33\",\n          \"? Support Erin by signing \\u00c3\\u0082\\u00c2\\u0093Covid-19 Panic Mitigation for Food and Supplies\\u00c3\\u0082\\u00c2\\u0094 and I\\u00c3\\u0082\\u00c2\\u0092ll deliver a copy to your officials too: https://t.co/eFCAD18vVS\\r\\r\\n\\r\\r\\n? Last delivered to @realDonaldTrump #SC02 #SCpolitics #SCpol https://t.co/WDG1hrNqXI\"\n        ],\n        \"semantic_type\": \"\",\n        \"description\": \"\"\n      }\n    },\n    {\n      \"column\": \"Sentiment\",\n      \"properties\": {\n        \"dtype\": \"number\",\n        \"std\": 0,\n        \"min\": 0,\n        \"max\": 1,\n        \"num_unique_values\": 2,\n        \"samples\": [\n          0,\n          1\n        ],\n        \"semantic_type\": \"\",\n        \"description\": \"\"\n      }\n    }\n  ]\n}"
            }
          },
          "metadata": {},
          "execution_count": 13
        }
      ],
      "source": [
        "sentiments = {\n",
        "    'Positive': 1,\n",
        "    'Extremely Positive': 1,\n",
        "    'Negative': 0,\n",
        "    'Extremely Negative': 0\n",
        "}\n",
        "\n",
        "df['Sentiment'] = df['Sentiment'].map(sentiments)\n",
        "df.sample(10)\n"
      ]
    },
    {
      "cell_type": "markdown",
      "metadata": {
        "id": "pGq1FxJ-kBo5"
      },
      "source": [
        "Сбалансированы ли классы?"
      ]
    },
    {
      "cell_type": "code",
      "execution_count": 14,
      "metadata": {
        "id": "a7gdNtxckK5V",
        "outputId": "be33bcab-ce75-4294-b381-c27bbbcc122e",
        "colab": {
          "base_uri": "https://localhost:8080/"
        }
      },
      "outputs": [
        {
          "output_type": "stream",
          "name": "stdout",
          "text": [
            "Sentiment\n",
            "1    18046\n",
            "0    15398\n",
            "Name: count, dtype: int64\n",
            "0.8532638811925081\n"
          ]
        }
      ],
      "source": [
        "counts = df['Sentiment'].value_counts()\n",
        "print(counts)\n",
        "print(counts[0] / counts[1])\n",
        "\n"
      ]
    },
    {
      "cell_type": "markdown",
      "source": [
        "отношение кол-ва наблюдений - 0.85 / 1 => классы близки к балансу"
      ],
      "metadata": {
        "id": "RK-Di1eaXPxq"
      }
    },
    {
      "cell_type": "markdown",
      "metadata": {
        "id": "Ng8BCelMkWb0"
      },
      "source": [
        "**Ответ:** # -- YOUR ANSWER HERE --"
      ]
    },
    {
      "cell_type": "markdown",
      "metadata": {
        "id": "qmSIBSsLk5Zz"
      },
      "source": [
        "Выведете на экран информацию о пропусках в данных. Если пропуски присутствуют заполните их строкой 'Unknown'."
      ]
    },
    {
      "cell_type": "code",
      "execution_count": 15,
      "metadata": {
        "id": "UhUVRkR5kxa7",
        "outputId": "5f62fec7-6d81-4329-ee29-231fe175c857",
        "colab": {
          "base_uri": "https://localhost:8080/"
        }
      },
      "outputs": [
        {
          "output_type": "stream",
          "name": "stdout",
          "text": [
            "UserName            0\n",
            "ScreenName          0\n",
            "Location         7049\n",
            "TweetAt             0\n",
            "OriginalTweet       0\n",
            "Sentiment           0\n",
            "dtype: int64\n",
            "\n",
            "       UserName  ScreenName             Location     TweetAt  \\\n",
            "19102     27046       71998              Unknown  25-03-2020   \n",
            "26679     36505       81457      London, England  07-04-2020   \n",
            "6980      12287       57239  Birmingham, England  19-03-2020   \n",
            "13513     20197       65149         Florida, USA  22-03-2020   \n",
            "11323     17535       62487   Port Hope, Ontario  21-03-2020   \n",
            "14965     21993       66945                  NYC  23-03-2020   \n",
            "\n",
            "                                           OriginalTweet  Sentiment  \n",
            "19102  Has #coronavirus affected your #ecommerce stor...          1  \n",
            "26679  Consumer News ÃÂ #CitizensAdvice has respond...          1  \n",
            "6980   Its sad really that as a society we pay vast a...          0  \n",
            "13513  Does sanitizer help? What about masks? Dr. Mic...          1  \n",
            "11323  One positive of isolation is that I have not s...          1  \n",
            "14965  FYI, great data dashboard on consumer spend tr...          1  \n"
          ]
        }
      ],
      "source": [
        "print(df.isnull().sum())\n",
        "df = df.fillna('Unknown')\n",
        "\n",
        "print()\n",
        "print(df.sample(6))"
      ]
    },
    {
      "cell_type": "markdown",
      "metadata": {
        "id": "1tzt27tfjUpq"
      },
      "source": [
        "Разделите данные на обучающие и тестовые в соотношении 7 : 3 и укажите `random_state=0`"
      ]
    },
    {
      "cell_type": "code",
      "execution_count": 16,
      "metadata": {
        "id": "xSLOA9tIj9Z6"
      },
      "outputs": [],
      "source": [
        "from sklearn.model_selection import train_test_split\n",
        "\n",
        "train, test = train_test_split(df, test_size=0.3, random_state=0)"
      ]
    },
    {
      "cell_type": "markdown",
      "metadata": {
        "id": "J9RrPUsJlL60"
      },
      "source": [
        "## Задание 2 Токенизация (3 балла)"
      ]
    },
    {
      "cell_type": "markdown",
      "metadata": {
        "id": "2Dz_b7Xopc_R"
      },
      "source": [
        "Постройте словарь на основе обучающей выборки и посчитайте количество встреч каждого токена с использованием самой простой токенизации - деления текстов по пробельным символам и приведения токенов в нижний регистр."
      ]
    },
    {
      "cell_type": "code",
      "execution_count": 17,
      "metadata": {
        "id": "SFr67WOJphny"
      },
      "outputs": [],
      "source": [
        "\n",
        "tokenized_texts = train['OriginalTweet'].apply(lambda x: x.lower().split())\n",
        "tokens = {}\n",
        "\n",
        "for text in tokenized_texts:\n",
        "  for token in text:\n",
        "    if token in tokens:\n",
        "      tokens[token] += 1\n",
        "    else:\n",
        "      tokens[token] = 1\n",
        "\n"
      ]
    },
    {
      "cell_type": "markdown",
      "metadata": {
        "id": "Pe0h2Jqkpnao"
      },
      "source": [
        "Какой размер словаря получился?"
      ]
    },
    {
      "cell_type": "code",
      "execution_count": 18,
      "metadata": {
        "id": "umyENA7EpokD",
        "outputId": "d8a1ce99-93e4-4cf4-f75e-e60e08cecac5",
        "colab": {
          "base_uri": "https://localhost:8080/"
        }
      },
      "outputs": [
        {
          "output_type": "stream",
          "name": "stdout",
          "text": [
            "Размер словаря - 79755\n"
          ]
        }
      ],
      "source": [
        "print('Размер словаря - ' + str(len(tokens)))"
      ]
    },
    {
      "cell_type": "markdown",
      "metadata": {
        "id": "0d2G1Z-Qpqkd"
      },
      "source": [
        "Выведите 10 самых популярных токенов с количеством встреч каждого из них. Объясните, почему именно эти токены в топе."
      ]
    },
    {
      "cell_type": "code",
      "execution_count": 19,
      "metadata": {
        "id": "Impi32a_pssg",
        "outputId": "239b7a57-3980-4de6-8d0d-59b28d39a484",
        "colab": {
          "base_uri": "https://localhost:8080/"
        }
      },
      "outputs": [
        {
          "output_type": "execute_result",
          "data": {
            "text/plain": [
              "[('the', 26815),\n",
              " ('to', 23373),\n",
              " ('and', 14684),\n",
              " ('of', 13012),\n",
              " ('a', 11737),\n",
              " ('in', 11198),\n",
              " ('for', 8566),\n",
              " ('#coronavirus', 8223),\n",
              " ('is', 7383),\n",
              " ('are', 7050)]"
            ]
          },
          "metadata": {},
          "execution_count": 19
        }
      ],
      "source": [
        "\n",
        "sorted_tokens = sorted(tokens, key = lambda x: tokens[x], reverse=True)\n",
        "[(k, tokens[k]) for k in sorted_tokens[:10]]\n"
      ]
    },
    {
      "cell_type": "markdown",
      "source": [
        "**Ответ:** Самые популярные токены - артикли и предлоги, так как они постоянно используются в письме, а так же хештэг коронавирус, так как выборка взята по теме коронавируса"
      ],
      "metadata": {
        "id": "eaebQ_Y7cIO6"
      }
    },
    {
      "cell_type": "markdown",
      "metadata": {
        "id": "T7DTQDkWsVYp"
      },
      "source": [
        "Удалите стоп-слова из словаря и выведите новый топ-10 токенов (и количество встреч) по популярности.  Что можно сказать  о нем?"
      ]
    },
    {
      "cell_type": "code",
      "execution_count": 20,
      "metadata": {
        "id": "8csSAdgTsnFx",
        "outputId": "5c459fec-69ed-4db9-c374-5a9db72cb4b5",
        "colab": {
          "base_uri": "https://localhost:8080/"
        }
      },
      "outputs": [
        {
          "output_type": "stream",
          "name": "stderr",
          "text": [
            "[nltk_data] Downloading package stopwords to /root/nltk_data...\n",
            "[nltk_data]   Unzipping corpora/stopwords.zip.\n"
          ]
        },
        {
          "output_type": "execute_result",
          "data": {
            "text/plain": [
              "[('#coronavirus', 8223),\n",
              " ('prices', 3891),\n",
              " ('food', 3820),\n",
              " ('grocery', 3469),\n",
              " ('supermarket', 3288),\n",
              " ('people', 3175),\n",
              " ('covid-19', 3173),\n",
              " ('store', 3155),\n",
              " ('#covid19', 2471),\n",
              " ('&amp;', 2314)]"
            ]
          },
          "metadata": {},
          "execution_count": 20
        }
      ],
      "source": [
        "import nltk\n",
        "from nltk.corpus import stopwords\n",
        "\n",
        "nltk.download('stopwords')\n",
        "stop_words = set(stopwords.words('english'))\n",
        "\n",
        "filtered_tokens = {token: count for token, count in tokens.items() if token not in stop_words}\n",
        "sorted_filtered_tokens = sorted(filtered_tokens, key = lambda x: tokens[x], reverse=True)\n",
        "[(k, tokens[k]) for k in sorted_filtered_tokens[:10]]\n"
      ]
    },
    {
      "cell_type": "markdown",
      "metadata": {
        "id": "LZH0x2Lzs-Dh"
      },
      "source": [
        "**Ответ:** Токены, представленные в этом топе, уже отражают наиболее популярные темы обсуждения связанные с коронавирусом - рост цен, работа магазинов, однако, встречается и амперасанд и хэштэги, не несущие информации"
      ]
    },
    {
      "cell_type": "markdown",
      "metadata": {
        "id": "TKSGRyI-uor0"
      },
      "source": [
        "Также выведите 20 самых непопулярных слов (если самых непопулярных слов больше, выведите любые 20 из них) Почему эти токены непопулярны, требуется ли как-то дополнительно работать с ними?"
      ]
    },
    {
      "cell_type": "code",
      "execution_count": 21,
      "metadata": {
        "id": "moArbwfvun9t",
        "outputId": "2d203c16-1f2f-4631-f94b-60e4621fe71e",
        "colab": {
          "base_uri": "https://localhost:8080/"
        }
      },
      "outputs": [
        {
          "output_type": "execute_result",
          "data": {
            "text/plain": [
              "[('skellig', 1),\n",
              " ('coast!', 1),\n",
              " ('closer!)', 1),\n",
              " ('@skelligsix18', 1),\n",
              " ('#skelligcoast2kms', 1),\n",
              " ('#southkerry', 1),\n",
              " ('https://t.co/zjcl195vqs', 1),\n",
              " ('@srinivasiyc', 1),\n",
              " ('https://t.co/iaek4fwsgz', 1),\n",
              " ('premiership', 1),\n",
              " ('non-playing', 1),\n",
              " ('subsidise', 1),\n",
              " ('playersã\\x82â\\x92', 1),\n",
              " ('renewing', 1),\n",
              " ('wage!', 1),\n",
              " ('flew', 1),\n",
              " ('nothing...', 1),\n",
              " ('@torontopearson', 1),\n",
              " ('@680news', 1),\n",
              " ('https://t.co/7j2y3rsld9', 1)]"
            ]
          },
          "metadata": {},
          "execution_count": 21
        }
      ],
      "source": [
        "[(k, tokens[k]) for k in sorted_filtered_tokens[-20:]]"
      ]
    },
    {
      "cell_type": "markdown",
      "metadata": {
        "id": "uRp3J1gQunlR"
      },
      "source": [
        "\n",
        "**Ответ:** Эти токены представляют собой ссылки, слова со знаками препинания и узкоспециализированные редкие слова.\n",
        "\n",
        "Редкие слова можно оставить в данных, остальное представляет из себя шум, так как не несет новой информации\n"
      ]
    },
    {
      "cell_type": "markdown",
      "metadata": {
        "id": "wx9LQOSPzvjV"
      },
      "source": [
        "Теперь воспользуемся токенайзером получше - TweetTokenizer из библиотеки nltk. Примените его и посмотрите на топ-10 популярных слов. Чем он отличается от топа, который получался раньше? Почему?"
      ]
    },
    {
      "cell_type": "code",
      "execution_count": 22,
      "metadata": {
        "id": "2G1UkyVxzvFY",
        "outputId": "84e212f7-88e1-4acd-e6e5-0ec86774376a",
        "colab": {
          "base_uri": "https://localhost:8080/"
        }
      },
      "outputs": [
        {
          "output_type": "stream",
          "name": "stdout",
          "text": [
            "Новый топ\n",
            "[('the', 26993), ('.', 24118), ('to', 23478), (',', 17571), ('and', 14825), ('of', 13044), ('a', 11891), ('in', 11348), ('?', 9524), ('#coronavirus', 8808)]\n",
            "\n",
            "Старый топ\n",
            "[('the', 26815), ('to', 23373), ('and', 14684), ('of', 13012), ('a', 11737), ('in', 11198), ('for', 8566), ('#coronavirus', 8223), ('is', 7383), ('are', 7050)]\n"
          ]
        }
      ],
      "source": [
        "from nltk.tokenize import TweetTokenizer\n",
        "\n",
        "tokenizer = TweetTokenizer()\n",
        "new_tokenized_texts = train['OriginalTweet'].apply(lambda x: tokenizer.tokenize(x.lower()))\n",
        "new_tokens = {}\n",
        "\n",
        "for text in new_tokenized_texts:\n",
        "  for token in text:\n",
        "    if token in new_tokens:\n",
        "      new_tokens[token] += 1\n",
        "    else:\n",
        "      new_tokens[token] = 1\n",
        "\n",
        "sorted_new_tokens = sorted(new_tokens, key = lambda x: new_tokens[x], reverse=True)\n",
        "\n",
        "print('Новый топ')\n",
        "print([(k, new_tokens[k]) for k in sorted_new_tokens[:10]])\n",
        "print()\n",
        "print('Старый топ')\n",
        "print([(k, tokens[k]) for k in sorted_tokens[:10]])\n"
      ]
    },
    {
      "cell_type": "markdown",
      "metadata": {
        "id": "50eVUnJN1Zxl"
      },
      "source": [
        "**Ответ:** В новом топе также обрабатываются знаки препинания, токенайзер учитывает слова и стоящие с ними вплотную знаки препинания как отдельные токены"
      ]
    },
    {
      "cell_type": "markdown",
      "metadata": {
        "id": "1gqQgiMs11bs"
      },
      "source": [
        "Удалите из словаря стоп-слова и пунктуацию, посмотрите на новый топ-10 слов с количеством встреч, есть ли теперь в нем что-то не похожее на слова?"
      ]
    },
    {
      "cell_type": "code",
      "execution_count": 23,
      "metadata": {
        "id": "0yHWdFrp0Mup",
        "outputId": "adc2e9e0-c40d-4ddb-896d-fd3500b95ca2",
        "colab": {
          "base_uri": "https://localhost:8080/"
        }
      },
      "outputs": [
        {
          "output_type": "execute_result",
          "data": {
            "text/plain": [
              "[('#coronavirus', 8808),\n",
              " ('â', 7415),\n",
              " ('\\x82', 7311),\n",
              " ('19', 7167),\n",
              " ('covid', 6253),\n",
              " ('prices', 4601),\n",
              " ('\\x92', 4372),\n",
              " ('food', 4367),\n",
              " ('store', 3877),\n",
              " ('supermarket', 3805)]"
            ]
          },
          "metadata": {},
          "execution_count": 23
        }
      ],
      "source": [
        "from string import punctuation\n",
        "\n",
        "filtered_new_tokens = {token: count for token, count in new_tokens.items() if token not in stop_words and token not in punctuation}\n",
        "sorted_filtered_new_tokens = sorted(filtered_new_tokens, key = lambda x: new_tokens[x], reverse=True)\n",
        "[(k, new_tokens[k]) for k in sorted_filtered_new_tokens[:10]]\n"
      ]
    },
    {
      "cell_type": "markdown",
      "metadata": {
        "id": "8ZJqXELP_Yxy"
      },
      "source": [
        "**Ответ:**  Да, в топе появилось несколько нечитаемых символов"
      ]
    },
    {
      "cell_type": "markdown",
      "metadata": {
        "id": "rzXjMsSB_kXB"
      },
      "source": [
        "Скорее всего в некоторых топах были неотображаемые символы или отдельные буквы не латинского алфавита. Уберем их: удалите из словаря токены из одного символа, позиция которого в таблице Unicode 128 и более (`ord(x) >= 128`)\n",
        "\n",
        "Выведите топ-10 самых популярных и топ-20 непопулярных слов. Чем полученные топы отличаются от итоговых топов, полученных при использовании токенизации по пробелам? Что теперь лучше, а что хуже?"
      ]
    },
    {
      "cell_type": "code",
      "execution_count": 24,
      "metadata": {
        "id": "1695hlkS_1-J",
        "outputId": "8a801d29-6e44-4b3c-f146-f45d8ff15428",
        "colab": {
          "base_uri": "https://localhost:8080/"
        }
      },
      "outputs": [
        {
          "output_type": "execute_result",
          "data": {
            "text/plain": [
              "([('#coronavirus', 8808),\n",
              "  ('19', 7167),\n",
              "  ('covid', 6253),\n",
              "  ('prices', 4601),\n",
              "  ('food', 4367),\n",
              "  ('store', 3877),\n",
              "  ('supermarket', 3805),\n",
              "  ('grocery', 3523),\n",
              "  ('people', 3463),\n",
              "  ('#covid19', 2589)],\n",
              " [('https://t.co/lw1r0rm7xs', 1),\n",
              "  ('https://t.co/5cbliqzx7l', 1),\n",
              "  ('now.when', 1),\n",
              "  ('milion', 1),\n",
              "  ('skellig', 1),\n",
              "  ('@skelligsix18', 1),\n",
              "  ('#skelligcoast2kms', 1),\n",
              "  ('#southkerry', 1),\n",
              "  ('https://t.co/zjcl195vqs', 1),\n",
              "  ('@srinivasiyc', 1),\n",
              "  ('https://t.co/iaek4fwsgz', 1),\n",
              "  ('premiership', 1),\n",
              "  ('non-playing', 1),\n",
              "  ('subsidise', 1),\n",
              "  ('playersã', 1),\n",
              "  ('renewing', 1),\n",
              "  ('flew', 1),\n",
              "  ('@torontopearson', 1),\n",
              "  ('@680news', 1),\n",
              "  ('https://t.co/7j2y3rsld9', 1)])"
            ]
          },
          "metadata": {},
          "execution_count": 24
        }
      ],
      "source": [
        "filtered_new_tokens = {k: v for k, v in filtered_new_tokens.items() if not(len(k) == 1 and ord(k) >= 128)}\n",
        "sorted_filtered_new_tokens = sorted(filtered_new_tokens, key = lambda x: new_tokens[x], reverse=True)\n",
        "[(k, new_tokens[k]) for k in sorted_filtered_new_tokens[:10]], [(k, new_tokens[k]) for k in sorted_filtered_new_tokens[-20:]]\n"
      ]
    },
    {
      "cell_type": "markdown",
      "metadata": {
        "id": "KzjHAKIlDvc6"
      },
      "source": [
        "**Ответ:** В топ 10 стало меньше информации, так как токенайзер обрабатывает КОВИД-19 как 2 разных токен, однако, пропали специальные символы.\n",
        "\n",
        "В топе напопулярных слов пропали слова стоящие вплотную с знаками препинания"
      ]
    },
    {
      "cell_type": "markdown",
      "metadata": {
        "id": "EcDf9_6HB2zm"
      },
      "source": [
        "Выведите топ-10 популярных хештегов (токены, первые символы которых - #) с количеством встреч. Что можно сказать о них?"
      ]
    },
    {
      "cell_type": "code",
      "execution_count": 25,
      "metadata": {
        "id": "zk4fygCUBw3l",
        "outputId": "e413913b-19f9-4250-cf42-1cc1b04b350e",
        "colab": {
          "base_uri": "https://localhost:8080/"
        }
      },
      "outputs": [
        {
          "output_type": "execute_result",
          "data": {
            "text/plain": [
              "[('#coronavirus', 8808),\n",
              " ('#covid19', 2589),\n",
              " ('#covid_19', 1734),\n",
              " ('#covid2019', 946),\n",
              " ('#toiletpaper', 744),\n",
              " ('#covid', 641),\n",
              " ('#socialdistancing', 465),\n",
              " ('#coronacrisis', 448),\n",
              " ('#pandemic', 257),\n",
              " ('#coronaviruspandemic', 249)]"
            ]
          },
          "metadata": {},
          "execution_count": 25
        }
      ],
      "source": [
        "hashtag_tokens = {k: v for k, v in filtered_new_tokens.items() if k[0] == '#'}\n",
        "sorted_hashtag_tokens = sorted(hashtag_tokens, key = lambda x: hashtag_tokens[x], reverse=True)\n",
        "[(k, hashtag_tokens[k]) for k in sorted_hashtag_tokens[:10]]"
      ]
    },
    {
      "cell_type": "markdown",
      "metadata": {
        "id": "-6NeNWBkDxM7"
      },
      "source": [
        "**Ответ:** Они показывают самые популярный темы постов по теме коронавируса"
      ]
    },
    {
      "cell_type": "markdown",
      "metadata": {
        "id": "LLYBg7caD5GA"
      },
      "source": [
        "То же самое проделайте для ссылок на сайт https://t.co Сравнима ли популярность ссылок с популярностью хештегов? Будет ли информация о ссылке на конкретную страницу полезна?"
      ]
    },
    {
      "cell_type": "code",
      "execution_count": 26,
      "metadata": {
        "id": "MXbm1oeaCK9S",
        "outputId": "77483891-fb8f-4099-9f17-4f5dfa6482c1",
        "colab": {
          "base_uri": "https://localhost:8080/"
        }
      },
      "outputs": [
        {
          "output_type": "execute_result",
          "data": {
            "text/plain": [
              "[('https://t.co/oxa7swtond', 5),\n",
              " ('https://t.co/gp3eusapl8', 4),\n",
              " ('https://t.co/deftrui1pfã\\x82â', 3),\n",
              " ('https://t.co/wrlhyzizaa', 3),\n",
              " ('https://t.co/kuwipf1kqw', 3),\n",
              " ('https://t.co/zjnrx6dkkn', 3),\n",
              " ('https://t.co/3gbbdpdjat', 3),\n",
              " ('https://t.co/e2znxajpre', 3),\n",
              " ('https://t.co/catkegayoy', 3),\n",
              " ('https://t.co/g63rp042ho', 3)]"
            ]
          },
          "metadata": {},
          "execution_count": 26
        }
      ],
      "source": [
        "import re\n",
        "\n",
        "link_tokens = {k: v for k, v in filtered_new_tokens.items() if re.match(r\"https://t.co\", k)}\n",
        "sorted_link_tokens = sorted(link_tokens, key = lambda x: link_tokens[x], reverse=True)\n",
        "[(k, link_tokens[k]) for k in sorted_link_tokens[:10]]\n"
      ]
    },
    {
      "cell_type": "markdown",
      "metadata": {
        "id": "at6lRYZ8A07N"
      },
      "source": [
        "**Ответ:** Ссылки значительно менее популярны, а также имеют меньше повторений, так как одни разные пользователи редко используют ссылки на одни и те же ресурсы\n",
        "\n",
        "Информация о ссылках полезна не будет"
      ]
    },
    {
      "cell_type": "markdown",
      "metadata": {
        "id": "IOGdUU1kBU1D"
      },
      "source": [
        "Используем опыт предыдущих экспериментов и напишем собственный токенайзер, улучшив TweetTokenizer. Функция tokenize должна:\n",
        "\n",
        "\n",
        "\n",
        "*   Привести текст в нижний регистр\n",
        "*   Применить TweetTokenizer для  выделения токенов\n",
        "*   Удалить стоп-слова, пунктуацию, токены из одного символа с позицией в таблице Unicode 128 и более,  ссылки на t.co\n",
        "\n"
      ]
    },
    {
      "cell_type": "code",
      "execution_count": 27,
      "metadata": {
        "id": "ctEsB6xkFrrK"
      },
      "outputs": [],
      "source": [
        "\n",
        "def token_is_valid(token):\n",
        "  if token in stop_words or token in punctuation:\n",
        "    return False\n",
        "\n",
        "  if len(token) == 1 and ord(token) >= 128:\n",
        "    return False\n",
        "\n",
        "  if re.match(r'https://t.co', token):\n",
        "    return False\n",
        "\n",
        "  return True\n",
        "\n",
        "\n",
        "def custom_tokenizer(text):\n",
        "\n",
        "  text = text.lower()\n",
        "  tokenizer = TweetTokenizer()\n",
        "  tokens = [token for token in tokenizer.tokenize(text) if token_is_valid(token)]\n",
        "\n",
        "  return tokens\n"
      ]
    },
    {
      "cell_type": "code",
      "execution_count": 28,
      "metadata": {
        "colab": {
          "base_uri": "https://localhost:8080/"
        },
        "id": "XwbgtYkJGYym",
        "outputId": "839f21f7-6f0f-4232-a7ce-20acc2a398c5"
      },
      "outputs": [
        {
          "output_type": "execute_result",
          "data": {
            "text/plain": [
              "['sample', 'text', '@sample_text', '#sampletext']"
            ]
          },
          "metadata": {},
          "execution_count": 28
        }
      ],
      "source": [
        "custom_tokenizer('This is sample text!!!! @Sample_text I, \\x92\\x92 https://t.co/sample  #sampletext')"
      ]
    },
    {
      "cell_type": "markdown",
      "metadata": {
        "id": "wURVABmXHk97"
      },
      "source": [
        "## Задание 3 Векторизация текстов (2 балла)"
      ]
    },
    {
      "cell_type": "markdown",
      "metadata": {
        "id": "H44iXkoHIQfN"
      },
      "source": [
        "Обучите CountVectorizer с использованием custom_tokenizer в качестве токенайзера. Как размер полученного словаря соотносится с размером изначального словаря из начала задания 2?"
      ]
    },
    {
      "cell_type": "code",
      "source": [
        "from sklearn.feature_extraction.text import CountVectorizer\n",
        "\n",
        "cv = CountVectorizer(tokenizer=custom_tokenizer)\n",
        "X_counts = cv.fit_transform(train['OriginalTweet'])\n",
        "\n",
        "print('Новый результат: ' + str(len(cv.vocabulary_)))\n",
        "print('Старый результат: ' + str(len(tokens)))"
      ],
      "metadata": {
        "colab": {
          "base_uri": "https://localhost:8080/"
        },
        "id": "gHn_limQl3BI",
        "outputId": "733172ab-ac08-467b-c324-3fb65889e550"
      },
      "execution_count": 29,
      "outputs": [
        {
          "output_type": "stream",
          "name": "stderr",
          "text": [
            "/usr/local/lib/python3.11/dist-packages/sklearn/feature_extraction/text.py:517: UserWarning: The parameter 'token_pattern' will not be used since 'tokenizer' is not None'\n",
            "  warnings.warn(\n"
          ]
        },
        {
          "output_type": "stream",
          "name": "stdout",
          "text": [
            "Новый результат: 45290\n",
            "Старый результат: 79755\n"
          ]
        }
      ]
    },
    {
      "cell_type": "markdown",
      "metadata": {
        "id": "gsfmaSGoItUm"
      },
      "source": [
        "**Ответ:** # Словарь из задания 2 больше"
      ]
    },
    {
      "cell_type": "markdown",
      "metadata": {
        "id": "lm6UHNmqKZT0"
      },
      "source": [
        "Посмотрим на какой-нибудь конкретный твитт:"
      ]
    },
    {
      "cell_type": "code",
      "execution_count": 30,
      "metadata": {
        "id": "aJVjjfqOJh8m",
        "outputId": "86a7111a-16f8-4963-d851-825df44c01ed",
        "colab": {
          "base_uri": "https://localhost:8080/"
        }
      },
      "outputs": [
        {
          "output_type": "execute_result",
          "data": {
            "text/plain": [
              "('Nice one @SkyNews lets not panic but show ppl in france queueing for food!!! #CoronavirusOutbreak #COVID2019 brainless!! Ffs',\n",
              " np.int64(0))"
            ]
          },
          "metadata": {},
          "execution_count": 30
        }
      ],
      "source": [
        "ind = 9023\n",
        "train.iloc[ind]['OriginalTweet'], train.iloc[ind]['Sentiment']"
      ]
    },
    {
      "cell_type": "markdown",
      "metadata": {
        "id": "PBMIHBI5KdaS"
      },
      "source": [
        "Автор твитта не доволен ситуацией с едой во Франции и текст имеет резко негативную окраску.\n",
        "\n",
        "Примените обученный CountVectorizer для векторизации данного текста, и попытайтесь определить самый важный токен и самый неважный токен (токен, компонента которого в векторе максимальна/минимальна, без учета 0). Хорошо ли они определились, почему?"
      ]
    },
    {
      "cell_type": "code",
      "execution_count": 31,
      "metadata": {
        "id": "7NcAllaEKsJj",
        "outputId": "14ad3dff-e935-4326-98c5-f60fe778d5de",
        "colab": {
          "base_uri": "https://localhost:8080/"
        }
      },
      "outputs": [
        {
          "output_type": "stream",
          "name": "stdout",
          "text": [
            "<Compressed Sparse Row sparse matrix of dtype 'int64'\n",
            "\twith 14 stored elements and shape (1, 45290)>\n",
            "  Coords\tValues\n",
            "  (0, 1833)\t1\n",
            "  (0, 2046)\t1\n",
            "  (0, 16658)\t1\n",
            "  (0, 20553)\t1\n",
            "  (0, 26665)\t1\n",
            "  (0, 27042)\t1\n",
            "  (0, 27233)\t1\n",
            "  (0, 31570)\t1\n",
            "  (0, 34070)\t1\n",
            "  (0, 34679)\t1\n",
            "  (0, 35248)\t1\n",
            "  (0, 36404)\t1\n",
            "  (0, 37220)\t1\n",
            "  (0, 39909)\t1\n"
          ]
        }
      ],
      "source": [
        "\n",
        "text = train.iloc[ind]['OriginalTweet']\n",
        "vector = cv.transform([text])\n",
        "print(vector)\n",
        "\n"
      ]
    },
    {
      "cell_type": "markdown",
      "metadata": {
        "id": "TpEsl1k_NF4T"
      },
      "source": [
        "**Ответ:** Все токены получили значения 1, значит важность токенов опрпеделилась плохо. Явно негативный (brainlass) и явно позитивный (nice) получили одинаковые веса\n",
        "\n",
        "В данном случае получилось, что все токены важны, так как твит очень краток и все токены встречаются там по одному разу"
      ]
    },
    {
      "cell_type": "markdown",
      "metadata": {
        "id": "w4DsEQpLO3J6"
      },
      "source": [
        "Теперь примените TfidfVectorizer и  определите самый важный/неважный токены. Хорошо ли определились, почему?"
      ]
    },
    {
      "cell_type": "code",
      "execution_count": 32,
      "metadata": {
        "id": "uSNzdK3ENGB3",
        "outputId": "5775d721-99f0-4f99-9299-71c33b92f1d0",
        "colab": {
          "base_uri": "https://localhost:8080/"
        }
      },
      "outputs": [
        {
          "output_type": "stream",
          "name": "stdout",
          "text": [
            "[('brainless', np.float64(0.3867641170466375)), ('queueing', np.float64(0.35434556333216544)), ('ffs', np.float64(0.3244741764513268)), ('france', np.float64(0.32047314046539654)), ('@skynews', np.float64(0.31042634466284263)), ('lets', np.float64(0.30121070136861045)), ('ppl', np.float64(0.2550064610386691)), ('nice', np.float64(0.2542729176022132)), ('show', np.float64(0.24406492401820118)), ('#coronavirusoutbreak', np.float64(0.22584265007428544)), ('#covid2019', np.float64(0.16825192939361902)), ('one', np.float64(0.16306722855395073)), ('panic', np.float64(0.14759470306326164)), ('food', np.float64(0.11328893069250721))]\n"
          ]
        }
      ],
      "source": [
        "from sklearn.feature_extraction.text import TfidfVectorizer\n",
        "\n",
        "tfidf_vectorizer = TfidfVectorizer(tokenizer=custom_tokenizer)\n",
        "tfidf_vectorizer.fit(train['OriginalTweet'])\n",
        "tfidf_vector = tfidf_vectorizer.transform([text])\n",
        "\n",
        "vector_array = tfidf_vector.toarray()[0]\n",
        "nonzero_indices = np.where(vector_array != 0)[0]\n",
        "vector_array = sorted([(tfidf_vectorizer.get_feature_names_out()[i], vector_array[i])\n",
        "                 for i in nonzero_indices], key=lambda x: x[1], reverse=True)\n",
        "print(vector_array)"
      ]
    },
    {
      "cell_type": "markdown",
      "metadata": {
        "id": "NYao_UhqQADm"
      },
      "source": [
        "**Ответ:** # Здесь веса токенов распределились более корректно, так как векторайзер учитывает частоту появления токенов в обучающем словаре"
      ]
    },
    {
      "cell_type": "markdown",
      "metadata": {
        "id": "LGRJPqfWSesQ"
      },
      "source": [
        "Найдите какой-нибудь положительно окрашенный твитт, где TfidfVectorizer хорошо (полезно для определения окраски) выделяет важный токен, поясните пример.\n",
        "\n",
        "*Подсказка:* явно положительные твитты можно искать при помощи положительных слов (good, great, amazing и т. д.)"
      ]
    },
    {
      "cell_type": "code",
      "execution_count": 33,
      "metadata": {
        "id": "bRbQ2CHiSuJI"
      },
      "outputs": [],
      "source": [
        "nice_tweets = train[train['OriginalTweet'].apply(lambda x: 'fabulous' in x) & (train['Sentiment'] == 1)]['OriginalTweet']"
      ]
    },
    {
      "cell_type": "code",
      "source": [
        "nice_tweet = nice_tweets.iloc[0]\n",
        "nice_tweet"
      ],
      "metadata": {
        "id": "D9XZD9hDmqlU",
        "outputId": "b2f3d55b-6510-493e-9597-693a4d42c54f",
        "colab": {
          "base_uri": "https://localhost:8080/",
          "height": 52
        }
      },
      "execution_count": 34,
      "outputs": [
        {
          "output_type": "execute_result",
          "data": {
            "text/plain": [
              "\"We're open as usual tomorrow. We will remain constant and stable with our regular supplies of fabulous local produce. There's definitely no need to panic, the farmers and producers are always hard at work to ensure we have wonderful food and drinks! #InThisTogether #Covid_19 https://t.co/orvUeuUrb9\""
            ],
            "application/vnd.google.colaboratory.intrinsic+json": {
              "type": "string"
            }
          },
          "metadata": {},
          "execution_count": 34
        }
      ]
    },
    {
      "cell_type": "code",
      "source": [
        "tfidf_vectorizer = TfidfVectorizer(tokenizer=custom_tokenizer)\n",
        "tfidf_vectorizer.fit(train['OriginalTweet'])\n",
        "tfidf_vector = tfidf_vectorizer.transform([nice_tweet])\n",
        "\n",
        "vector_array = tfidf_vector.toarray()[0]\n",
        "nonzero_indices = np.where(vector_array != 0)[0]\n",
        "vector_array = sorted([(tfidf_vectorizer.get_feature_names_out()[i], vector_array[i])\n",
        "                 for i in nonzero_indices], key=lambda x: x[1], reverse=True)\n",
        "print(vector_array)"
      ],
      "metadata": {
        "id": "jSjbKPCWk87K",
        "outputId": "99693124-0935-4196-add3-dc34450bedb4",
        "colab": {
          "base_uri": "https://localhost:8080/"
        }
      },
      "execution_count": 35,
      "outputs": [
        {
          "output_type": "stream",
          "name": "stdout",
          "text": [
            "[('fabulous', np.float64(0.32143158262782884)), ('#inthistogether', np.float64(0.26588196758258414)), ('constant', np.float64(0.25163516468508657)), ('drinks', np.float64(0.25163516468508657)), ('wonderful', np.float64(0.24709004203022336)), ('stable', np.float64(0.23359394967189473)), ('definitely', np.float64(0.21812381114887655)), ('regular', np.float64(0.20825084411442418)), ('producers', np.float64(0.20745585618559859)), ('usual', np.float64(0.20307169465036548)), (\"there's\", np.float64(0.19834129556486316)), ('tomorrow', np.float64(0.19475475175609558)), ('remain', np.float64(0.18799338226482262)), ('farmers', np.float64(0.1855763538124254)), ('produce', np.float64(0.1855763538124254)), ('always', np.float64(0.18387972702555153)), ('ensure', np.float64(0.18351498363669927)), ('hard', np.float64(0.16912537610874162)), ('open', np.float64(0.16052146061128075)), ('supplies', np.float64(0.14975854716049347)), ('local', np.float64(0.1364641467897207)), ('work', np.float64(0.1326891272488863)), ('need', np.float64(0.11491505869519442)), ('panic', np.float64(0.11446216712269408)), ('#covid_19', np.float64(0.11169622619176697)), ('food', np.float64(0.08785746540320664))]\n"
          ]
        }
      ]
    },
    {
      "cell_type": "markdown",
      "metadata": {
        "id": "JTv9ST2_U6NA"
      },
      "source": [
        "**Ответ:** Для этого явно положительно окрашенного твита векторайзер выделяет положительные токены (fabulous, constant, wonderful)"
      ]
    },
    {
      "cell_type": "markdown",
      "metadata": {
        "id": "JVEuZm8BHms6"
      },
      "source": [
        "## Задание 4 Обучение первых моделей (1 балл)"
      ]
    },
    {
      "cell_type": "markdown",
      "metadata": {
        "id": "JADkO3sfXdOG"
      },
      "source": [
        "Примените оба векторайзера для получения матриц с признаками текстов.  Выделите целевую переменную."
      ]
    },
    {
      "cell_type": "code",
      "execution_count": 36,
      "metadata": {
        "id": "DguoiXhCX2oN"
      },
      "outputs": [],
      "source": [
        "\n",
        "cv = CountVectorizer(tokenizer=custom_tokenizer)\n",
        "tv = TfidfVectorizer(tokenizer=custom_tokenizer)\n",
        "\n",
        "X_count = cv.fit_transform(df['OriginalTweet'])\n",
        "X_tfidf = tv.fit_transform(df['OriginalTweet'])\n",
        "y = df['Sentiment'].values\n"
      ]
    },
    {
      "cell_type": "markdown",
      "metadata": {
        "id": "_FX1KSOfYSx4"
      },
      "source": [
        "Обучите логистическую регрессию на векторах из обоих векторайзеров. Посчитайте долю правильных ответов на обучающих и тестовых данных. Какой векторайзер показал лучший результат? Что можно сказать о моделях?\n",
        "\n",
        "Используйте `sparse` матрицы (после векторизации), не превращайте их в `numpy.ndarray` или `pd.DataFrame` - может не хватить памяти."
      ]
    },
    {
      "cell_type": "code",
      "execution_count": 37,
      "metadata": {
        "id": "-Tb3eh8UXJ6v",
        "colab": {
          "base_uri": "https://localhost:8080/"
        },
        "outputId": "acbe0a8b-f0b8-41a8-969e-d7c0c04f23bf"
      },
      "outputs": [
        {
          "output_type": "stream",
          "name": "stdout",
          "text": [
            "CountVectorizer:\n",
            "Обучающая выборка: 0.983596753524135\n",
            "Тестовая выборка: 0.8738289814630257\n",
            "\n",
            "TfidfVectorizer:\n",
            "Обучающая выборка: 0.9231952157197779\n",
            "Тестовая выборка: 0.8533984452860275\n"
          ]
        }
      ],
      "source": [
        "from sklearn.linear_model import LogisticRegression\n",
        "from sklearn.metrics import accuracy_score\n",
        "\n",
        "X_train_count, X_test_count, y_train_count, y_test_count = train_test_split(X_count, y, test_size=0.3, random_state=66)\n",
        "X_train_tfidf, X_test_tfidf, y_train_tfidf, y_test_tfidf = train_test_split(X_tfidf, y, test_size=0.3, random_state=66)\n",
        "\n",
        "model_count = LogisticRegression(random_state=66)\n",
        "model_tfidf = LogisticRegression(random_state=66)\n",
        "model_count.fit(X_train_count, y_train_count)\n",
        "model_tfidf.fit(X_train_tfidf, y_train_tfidf)\n",
        "\n",
        "y_pred_train_count = model_count.predict(X_train_count)\n",
        "y_pred_test_count = model_count.predict(X_test_count)\n",
        "y_pred_train_tfidf = model_tfidf.predict(X_train_tfidf)\n",
        "y_pred_test_tfidf = model_tfidf.predict(X_test_tfidf)\n",
        "\n",
        "print(\"CountVectorizer:\")\n",
        "print(f'Обучающая выборка: {accuracy_score(y_train_count, y_pred_train_count)}')\n",
        "print(f'Тестовая выборка: {accuracy_score(y_test_count, y_pred_test_count)}')\n",
        "print()\n",
        "print(\"TfidfVectorizer:\")\n",
        "print(f'Обучающая выборка: {accuracy_score(y_train_tfidf, y_pred_train_tfidf)}')\n",
        "print(f'Тестовая выборка: {accuracy_score(y_test_tfidf, y_pred_test_tfidf)}')\n"
      ]
    },
    {
      "cell_type": "markdown",
      "metadata": {
        "id": "8y_wO7rCmv7K"
      },
      "source": [
        "**Ответ:** Модель для которой был использован CountVectorizer, переобучилась, но показала незначительно лучшие результаты на тестовой выборке\n",
        "\n",
        "В целом, модели показали схожие результаты, но можно сказать, что Tfidf справилась лучше, так как не слишком сильно подстраивалась под обучающие данные"
      ]
    },
    {
      "cell_type": "markdown",
      "metadata": {
        "id": "rSOR1i3mjrys"
      },
      "source": [
        "## Задание 5 Стемминг (0.5 балла)"
      ]
    },
    {
      "cell_type": "markdown",
      "metadata": {
        "id": "i6ONBWNPjuq-"
      },
      "source": [
        "Для уменьшения словаря можно использовать стемминг.\n",
        "\n",
        "Модифицируйте написанный токенайзер, добавив в него стемминг с использованием SnowballStemmer. Обучите Count- и Tfidf- векторайзеры. Как изменился размер словаря?"
      ]
    },
    {
      "cell_type": "code",
      "execution_count": 38,
      "metadata": {
        "id": "oVfA2-iMkQBb"
      },
      "outputs": [],
      "source": [
        "\n",
        "from nltk.stem import SnowballStemmer\n",
        "\n",
        "\n",
        "def token_is_valid(token):\n",
        "  if token in stop_words or token in punctuation:\n",
        "    return False\n",
        "\n",
        "  if len(token) == 1 and ord(token) >= 128:\n",
        "    return False\n",
        "\n",
        "  if re.match(r'https://t.co', token):\n",
        "    return False\n",
        "\n",
        "  return True\n",
        "\n",
        "\n",
        "def custom_stem_tokenizer(text):\n",
        "\n",
        "  text = text.lower()\n",
        "  tokenizer = TweetTokenizer('english')\n",
        "  stemmer = SnowballStemmer('english')\n",
        "  tokens = [stemmer.stem(token) for token in tokenizer.tokenize(text) if token_is_valid(token)]\n",
        "\n",
        "  return tokens"
      ]
    },
    {
      "cell_type": "code",
      "execution_count": 39,
      "metadata": {
        "colab": {
          "base_uri": "https://localhost:8080/"
        },
        "id": "9QmrjYtqnlPd",
        "outputId": "c3dc4e98-626c-4da1-cea5-261d591936db"
      },
      "outputs": [
        {
          "output_type": "execute_result",
          "data": {
            "text/plain": [
              "['sampl', 'text', '@sample_text', '#sampletext', 'ad', 'word', 'check', 'stem']"
            ]
          },
          "metadata": {},
          "execution_count": 39
        }
      ],
      "source": [
        "custom_stem_tokenizer('This is sample text!!!! @Sample_text I, \\x92\\x92 https://t.co/sample  #sampletext adding more words to check stemming')"
      ]
    },
    {
      "cell_type": "code",
      "execution_count": 40,
      "metadata": {
        "colab": {
          "base_uri": "https://localhost:8080/"
        },
        "id": "zAvUTmaplzOS",
        "outputId": "65c331b2-d1d8-4a85-80c0-054b1ce87745"
      },
      "outputs": [
        {
          "output_type": "stream",
          "name": "stderr",
          "text": [
            "/usr/local/lib/python3.11/dist-packages/sklearn/feature_extraction/text.py:517: UserWarning: The parameter 'token_pattern' will not be used since 'tokenizer' is not None'\n",
            "  warnings.warn(\n"
          ]
        },
        {
          "output_type": "stream",
          "name": "stdout",
          "text": [
            "Резульататы без стемминга: 56523, 56523\n",
            "Результаты со стеммингом: 36634, 36634\n"
          ]
        }
      ],
      "source": [
        "\n",
        "cv2 = CountVectorizer(tokenizer=custom_stem_tokenizer)\n",
        "tv2 = TfidfVectorizer(tokenizer=custom_stem_tokenizer)\n",
        "\n",
        "X_count_stem = cv2.fit_transform(train['OriginalTweet'])\n",
        "X_tfidf_stem = tv2.fit_transform(train['OriginalTweet'])\n",
        "\n",
        "\n",
        "print(f'Резульататы без стемминга: {len(cv.vocabulary_)}, {len(tv.vocabulary_)}')\n",
        "print(f'Результаты со стеммингом: {len(cv2.vocabulary_)}, {len(tv2.vocabulary_)}')"
      ]
    },
    {
      "cell_type": "markdown",
      "metadata": {
        "id": "Oyzs5TaAoHP6"
      },
      "source": [
        "**Ответ** Размер словаря при применении стемминга значительно уменьшается"
      ]
    },
    {
      "cell_type": "markdown",
      "metadata": {
        "id": "1OkncHI8oRmd"
      },
      "source": [
        "Обучите логистическую регрессию с использованием обоих векторайзеров. Изменилось ли качество? Есть ли смысл применять стемминг?"
      ]
    },
    {
      "cell_type": "code",
      "execution_count": 41,
      "metadata": {
        "id": "ykZJPphEoZ5W",
        "colab": {
          "base_uri": "https://localhost:8080/"
        },
        "outputId": "b725ff6f-cf68-422b-f392-191ee14f5775"
      },
      "outputs": [
        {
          "output_type": "stream",
          "name": "stdout",
          "text": [
            "CountVectorizer:\n",
            "Обучающая выборка: 0.9676633917129431\n",
            "Тестовая выборка: 0.8666533785130556\n",
            "\n",
            "TfidfVectorizer:\n",
            "Обучающая выборка: 0.9137975224263135\n",
            "Тестовая выборка: 0.8549930237193542\n"
          ]
        }
      ],
      "source": [
        "\n",
        "X_c = cv2.transform(df['OriginalTweet'])\n",
        "X_t = tv2.transform(df['OriginalTweet'])\n",
        "\n",
        "X_train_count_stem, X_test_count_stem, y_train_count_stem, y_test_count_stem = train_test_split(X_c, y, test_size=0.3, random_state=66)\n",
        "X_train_tfidf_stem, X_test_tfidf_stem, y_train_tfidf_stem, y_test_tfidf_stem = train_test_split(X_t, y, test_size=0.3, random_state=66)\n",
        "\n",
        "model_count_stem = LogisticRegression(random_state=66)\n",
        "model_tfidf_stem = LogisticRegression(random_state=66)\n",
        "\n",
        "model_count_stem.fit(X_train_count_stem, y_train_count_stem)\n",
        "model_tfidf_stem.fit(X_train_tfidf_stem, y_train_tfidf_stem)\n",
        "\n",
        "y_pred_train_count_stem = model_count_stem.predict(X_train_count_stem)\n",
        "y_pred_test_count_stem = model_count_stem.predict(X_test_count_stem)\n",
        "y_pred_train_tfidf_stem = model_tfidf_stem.predict(X_train_tfidf_stem)\n",
        "y_pred_test_tfidf_stem = model_tfidf_stem.predict(X_test_tfidf_stem)\n",
        "\n",
        "print(\"CountVectorizer:\")\n",
        "print(f'Обучающая выборка: {accuracy_score(y_train_count_stem, y_pred_train_count_stem)}')\n",
        "print(f'Тестовая выборка: {accuracy_score(y_test_count_stem, y_pred_test_count_stem)}')\n",
        "print()\n",
        "print(\"TfidfVectorizer:\")\n",
        "print(f'Обучающая выборка: {accuracy_score(y_train_tfidf_stem, y_pred_train_tfidf_stem)}')\n",
        "print(f'Тестовая выборка: {accuracy_score(y_test_tfidf_stem, y_pred_test_tfidf_stem)}')\n"
      ]
    },
    {
      "cell_type": "markdown",
      "metadata": {
        "id": "bCRlrODro0h8"
      },
      "source": [
        "**Ответ:** Качество моделей улучшилось, значит, стемминг использовать стоит - он, улучшает качество модели и делает ее проще"
      ]
    },
    {
      "cell_type": "markdown",
      "metadata": {
        "id": "hYWGQNEDqLC-"
      },
      "source": [
        "## Задание  6 Работа с частотами (1.5 балла)"
      ]
    },
    {
      "cell_type": "markdown",
      "metadata": {
        "id": "8Hq-tl5mqUSn"
      },
      "source": [
        "Еще один способ уменьшить количество признаков - это использовать параметры min_df и max_df при построении векторайзера  эти параметры помогают ограничить требуемую частоту встречаемости токена в документах.\n",
        "\n",
        "По умолчанию берутся все токены, которые встретились хотя бы один раз.\n",
        "\n"
      ]
    },
    {
      "cell_type": "markdown",
      "metadata": {
        "id": "m1SiD4DE3WZ2"
      },
      "source": [
        "Подберите max_df такой, что размер словаря будет 36651 (на 1 меньше, чем было). Почему параметр получился такой большой/маленький?"
      ]
    },
    {
      "cell_type": "code",
      "source": [
        "\n",
        "print(len(cv2.vocabulary_))\n",
        "\n",
        "cv_df = CountVectorizer(tokenizer=custom_stem_tokenizer,\n",
        "                        max_df=8000\n",
        "                        ).fit(\n",
        "                           train['OriginalTweet']\n",
        "                            )\n",
        "print(len(cv_df.vocabulary_))"
      ],
      "metadata": {
        "colab": {
          "base_uri": "https://localhost:8080/"
        },
        "id": "o3YLb8PViExb",
        "outputId": "2ca02d88-c2a8-4453-b3c6-f273ca2fff9b"
      },
      "execution_count": 42,
      "outputs": [
        {
          "output_type": "stream",
          "name": "stdout",
          "text": [
            "36634\n"
          ]
        },
        {
          "output_type": "stream",
          "name": "stderr",
          "text": [
            "/usr/local/lib/python3.11/dist-packages/sklearn/feature_extraction/text.py:517: UserWarning: The parameter 'token_pattern' will not be used since 'tokenizer' is not None'\n",
            "  warnings.warn(\n"
          ]
        },
        {
          "output_type": "stream",
          "name": "stdout",
          "text": [
            "36633\n"
          ]
        }
      ]
    },
    {
      "cell_type": "markdown",
      "metadata": {
        "id": "UdZYoGZR4UsA"
      },
      "source": [
        "**Ответ:** Параметр получился большим, так как max_df отвечает за частоту токенов, выше которой токены не учитываются. Получается, что самый популярный токен имеет частоту выше 8000, остальные - ниже"
      ]
    },
    {
      "cell_type": "markdown",
      "metadata": {
        "id": "_gRIUaB1u32f"
      },
      "source": [
        "Подберите min_df (используйте дефолтное значение max_df) в CountVectorizer таким образом, чтобы размер словаря был 3700 токенов (при использовании токенайзера со стеммингом), а качество осталось таким же, как и было. Что можно сказать о результатах?"
      ]
    },
    {
      "cell_type": "code",
      "execution_count": 43,
      "metadata": {
        "colab": {
          "base_uri": "https://localhost:8080/"
        },
        "id": "kSnMJkn9XmsT",
        "outputId": "8e7b7298-0136-450d-c9b3-66f90aab5319"
      },
      "outputs": [
        {
          "output_type": "stream",
          "name": "stdout",
          "text": [
            "3687\n"
          ]
        }
      ],
      "source": [
        "cv_df = CountVectorizer(tokenizer=custom_stem_tokenizer,\n",
        "                        min_df=11\n",
        "                        ).fit(\n",
        "                            train['OriginalTweet']\n",
        "                            )\n",
        "print(len(cv_df.vocabulary_))"
      ]
    },
    {
      "cell_type": "markdown",
      "metadata": {
        "id": "3fGYpUIZx0fk"
      },
      "source": [
        "**Ответ:** Параметр получился маленьким, так как min_df отвечает за частоту токенов, ниже которой токены не учитываются.\n"
      ]
    },
    {
      "cell_type": "markdown",
      "source": [
        "В предыдущих заданиях признаки не скалировались. Отскалируйте данные (при словаре размера 3.7 тысяч, векторизованные CountVectorizer), обучите логистическую регрессию, посмотрите качество и выведите `barplot`, содержащий по 10 токенов, с наибольшим по модулю положительными/отрицательными весами. Что можно сказать об этих токенах?"
      ],
      "metadata": {
        "id": "Gx_h_-inKbBl"
      }
    },
    {
      "cell_type": "code",
      "source": [
        "from sklearn.preprocessing import StandardScaler\n",
        "from sklearn.linear_model import LogisticRegression\n",
        "from sklearn.metrics import accuracy_score\n",
        "\n",
        "\n",
        "X_train = cv_df.fit_transform(train['OriginalTweet'])\n",
        "X_test = cv_df.transform(test['OriginalTweet'])\n",
        "y_train = train['Sentiment']\n",
        "y_test = test['Sentiment']\n",
        "\n",
        "scaler = StandardScaler(with_mean=False)\n",
        "X_train_scaled = scaler.fit_transform(X_train)\n",
        "X_test_scaled = scaler.transform(X_test)\n",
        "\n",
        "lr = LogisticRegression(random_state=66)\n",
        "lr.fit(X_train_scaled, y_train)\n",
        "\n",
        "y_pred = lr.predict(X_test_scaled)\n",
        "print(f\"Accuracy после нормализации: {accuracy_score(y_test, y_pred)}\")\n"
      ],
      "metadata": {
        "id": "KBATXJX6LG9q",
        "outputId": "28162974-f897-4e2b-d8e0-8eae12064ab9",
        "colab": {
          "base_uri": "https://localhost:8080/"
        }
      },
      "execution_count": 44,
      "outputs": [
        {
          "output_type": "stream",
          "name": "stdout",
          "text": [
            "Accuracy после нормализации: 0.8447279250548136\n"
          ]
        }
      ]
    },
    {
      "cell_type": "code",
      "source": [
        "import matplotlib.pyplot as plt\n",
        "import numpy as np\n",
        "\n",
        "weights = lr.coef_[0]\n",
        "feature_names = cv_df.get_feature_names_out()\n",
        "\n",
        "top_positive = np.argsort(weights)[-10:][::-1]\n",
        "top_negative = np.argsort(weights)[:10]\n",
        "\n",
        "plt.figure(figsize=(15, 8))\n",
        "\n",
        "plt.subplot(1, 2, 1)\n",
        "plt.barh(np.array([feature_names[i] for i in top_positive]),\n",
        "        np.array([weights[i] for i in top_positive]))\n",
        "plt.title(\"Топ-10 токенов с положительным влиянием\")\n",
        "plt.xlabel(\"Вес\")\n",
        "\n",
        "plt.subplot(1, 2, 2)\n",
        "plt.barh(np.array([feature_names[i] for i in top_negative]),\n",
        "        np.array([weights[i] for i in top_negative]))\n",
        "plt.title(\"Топ-10 токенов с отрицательным влиянием\")\n",
        "plt.xlabel(\"Вес\")\n",
        "\n",
        "plt.tight_layout()\n",
        "plt.show()"
      ],
      "metadata": {
        "id": "J3ps_PfG_QN6",
        "outputId": "4b2df70c-92e4-4a1d-bcc3-1b0591330c9f",
        "colab": {
          "base_uri": "https://localhost:8080/",
          "height": 698
        }
      },
      "execution_count": 45,
      "outputs": [
        {
          "output_type": "display_data",
          "data": {
            "text/plain": [
              "<Figure size 1500x800 with 2 Axes>"
            ],
            "image/png": "[encoded data removed]"
          },
          "metadata": {}
        }
      ]
    },
    {
      "cell_type": "markdown",
      "source": [
        "**Ответ:** Токены с большими положительными весами являются позитивными, а с большими отрицательными - негативными"
      ],
      "metadata": {
        "id": "ThcEfzY1LHET"
      }
    },
    {
      "cell_type": "markdown",
      "metadata": {
        "id": "ktJVOdrIHq7B"
      },
      "source": [
        "## Задание 7 Другие признаки (1.5 балла)"
      ]
    },
    {
      "cell_type": "markdown",
      "metadata": {
        "id": "Yt3jRCZ2H0Og"
      },
      "source": [
        "Мы были сконцентрированы на работе с текстами твиттов и не использовали другие признаки - имена пользователя, дату и местоположение"
      ]
    },
    {
      "cell_type": "markdown",
      "metadata": {
        "id": "52wjewCCo_di"
      },
      "source": [
        "Изучите признаки UserName и ScreenName. полезны ли они? Если полезны, то закодируйте их, добавьте к матрице с отскалированными признаками, обучите логистическую регрессию, замерьте качество."
      ]
    },
    {
      "cell_type": "code",
      "execution_count": 46,
      "metadata": {
        "id": "63thouYZptj6",
        "outputId": "522beaf0-ed0b-4fc3-b821-3f5fd95a5130",
        "colab": {
          "base_uri": "https://localhost:8080/"
        }
      },
      "outputs": [
        {
          "output_type": "stream",
          "name": "stdout",
          "text": [
            "Уникальных UserName: 23410\n",
            "Уникальных ScreenName: 23410\n",
            "Всего Твитов: 23410\n"
          ]
        }
      ],
      "source": [
        "print(f\"Уникальных UserName: {train['UserName'].nunique()}\")\n",
        "print(f\"Уникальных ScreenName: {train['ScreenName'].nunique()}\")\n",
        "print(f'Всего Твитов: {train[\"UserName\"].shape[0]}')"
      ]
    },
    {
      "cell_type": "markdown",
      "metadata": {
        "id": "r8_qR-gnpT3a"
      },
      "source": [
        "**Ответ:** Кодирование этих признаков бесполезно, так как они все уникальны и не отражают суть твитов"
      ]
    },
    {
      "cell_type": "markdown",
      "metadata": {
        "id": "ythEcFSkt7y3"
      },
      "source": [
        "Изучите признак TweetAt в обучающей выборке: преобразуйте его к типу datetime и нарисуйте его гистограмму с разделением по цвету на основе целевой переменной. Полезен ли он? Если полезен, то закодируйте его, добавьте к матрице с отскалированными признаками, обучите логистическую регрессию, замерьте качество."
      ]
    },
    {
      "cell_type": "code",
      "source": [
        "train['TweetAt'] = pd.to_datetime(train['TweetAt'], dayfirst=True)\n",
        "\n",
        "plt.figure(figsize=(12, 6))\n",
        "sns.histplot(\n",
        "    data=train,\n",
        "    x='TweetAt',\n",
        "    hue='Sentiment',\n",
        "    bins=30,\n",
        "    alpha=0.6,\n",
        ")\n",
        "plt.title('Распределение твитов по дате')\n",
        "plt.xlabel('Дата твита')\n",
        "plt.ylabel('Количество')\n",
        "plt.xticks(rotation=45)\n",
        "plt.show()"
      ],
      "metadata": {
        "id": "Lxb_k0JLirNv",
        "outputId": "095956e5-ff9b-422c-aa8c-9784e5a04492",
        "colab": {
          "base_uri": "https://localhost:8080/",
          "height": 616
        }
      },
      "execution_count": 47,
      "outputs": [
        {
          "output_type": "display_data",
          "data": {
            "text/plain": [
              "<Figure size 1200x600 with 1 Axes>"
            ],
            "image/png": "[encoded data removed]"
          },
          "metadata": {}
        }
      ]
    },
    {
      "cell_type": "markdown",
      "metadata": {
        "id": "4IdLBdpQxM-G"
      },
      "source": [
        "**Ответ:** Признак бесполезен, так как в разное время примерно одинаковое количество позитивных и негативных твитов\n",
        "\n"
      ]
    },
    {
      "cell_type": "markdown",
      "source": [
        "Поработайте с признаком Location в обучающей выборке. Сколько уникальных значений?"
      ],
      "metadata": {
        "id": "r2JtRPhNP6qx"
      }
    },
    {
      "cell_type": "code",
      "source": [
        "print(f'Уникальных локаций: {train[\"Location\"].nunique()}')"
      ],
      "metadata": {
        "id": "xYQZQ1FRNpoe",
        "outputId": "7841ce62-3ff9-4a92-be06-32bebff156b9",
        "colab": {
          "base_uri": "https://localhost:8080/"
        }
      },
      "execution_count": 48,
      "outputs": [
        {
          "output_type": "stream",
          "name": "stdout",
          "text": [
            "Уникальных локаций: 7949\n"
          ]
        }
      ]
    },
    {
      "cell_type": "markdown",
      "source": [
        "Постройте гистограмму топ-10 по популярности местоположений (исключая Unknown)"
      ],
      "metadata": {
        "id": "6k4JwpRTQISa"
      }
    },
    {
      "cell_type": "code",
      "source": [
        "\n",
        "top_locations = train[train[\"Location\"] != \"Unknown\"][\"Location\"].value_counts().head(10)\n",
        "\n",
        "plt.figure(figsize=(10, 6))\n",
        "top_locations.plot(kind=\"bar\")\n",
        "plt.title(\"Топ-10 популярных местоположений\")\n",
        "plt.xlabel(\"Локация\")\n",
        "plt.ylabel(\"Количество\")\n",
        "plt.show()"
      ],
      "metadata": {
        "id": "J91YkhegJ0mz",
        "outputId": "1de21c8e-4ded-4788-c8ee-69e9da0406ec",
        "colab": {
          "base_uri": "https://localhost:8080/",
          "height": 666
        }
      },
      "execution_count": 49,
      "outputs": [
        {
          "output_type": "display_data",
          "data": {
            "text/plain": [
              "<Figure size 1000x600 with 1 Axes>"
            ],
            "image/png": "[encoded data removed]"
          },
          "metadata": {}
        }
      ]
    },
    {
      "cell_type": "markdown",
      "source": [
        "Видно, что многие местоположения включают в себя более точное название места, чем другие (Например, у некоторых стоит London, UK; а у некоторых просто UK или United Kingdom).\n",
        "\n",
        "Создайте новый признак WiderLocation, который содержит самое широкое местоположение (например, из London, UK должно получиться UK). Сколько уникальных категорий теперь? Постройте аналогичную гистограмму."
      ],
      "metadata": {
        "id": "ZOsv3lODTfYB"
      }
    },
    {
      "cell_type": "code",
      "source": [
        "df[\"WiderLocation\"] = df[\"Location\"].str.split(\",\").str[-1].str.strip()\n",
        "df[\"WiderLocation\"] = df[\"WiderLocation\"].replace(\"\", \"Unknown\").replace(\"unknown\", \"Unknown\")\n",
        "\n",
        "print(f'Уникальных широких местоположений: {train[\"WiderLocation\"].nunique()}')"
      ],
      "metadata": {
        "id": "mSkow6acOMyD",
        "outputId": "b9e0c0d3-2186-4e7a-b3b8-558d385c41fa",
        "colab": {
          "base_uri": "https://localhost:8080/"
        }
      },
      "execution_count": 56,
      "outputs": [
        {
          "output_type": "stream",
          "name": "stdout",
          "text": [
            "Уникальных широких местоположений: 4630\n"
          ]
        }
      ]
    },
    {
      "cell_type": "code",
      "source": [
        "wider = train[train[\"WiderLocation\"] != \"Unknown\"][\"WiderLocation\"].value_counts().head(10)\n",
        "\n",
        "plt.figure(figsize=(10, 6))\n",
        "wider.plot(kind=\"bar\")\n",
        "plt.title(\"Топ-10 популярных местоположений\")\n",
        "plt.xlabel(\"Локация\")\n",
        "plt.ylabel(\"Количество\")\n",
        "plt.xticks(rotation=45)\n",
        "plt.tight_layout()\n",
        "plt.show()"
      ],
      "metadata": {
        "id": "TYabHSKVoRyf",
        "outputId": "7da9217c-8707-418b-a465-da6030bc3931",
        "colab": {
          "base_uri": "https://localhost:8080/",
          "height": 607
        }
      },
      "execution_count": 57,
      "outputs": [
        {
          "output_type": "display_data",
          "data": {
            "text/plain": [
              "<Figure size 1000x600 with 1 Axes>"
            ],
            "image/png": "[encoded data removed]"
          },
          "metadata": {}
        }
      ]
    },
    {
      "cell_type": "markdown",
      "source": [
        "Закодируйте признак WiderLocation с помощью OHE таким образом, чтобы создались только столбцы для местоположений, которые встречаются более одного раза. Сколько таких значений?\n"
      ],
      "metadata": {
        "id": "cgyWrD2eVfff"
      }
    },
    {
      "cell_type": "code",
      "source": [
        "\n",
        "from sklearn.preprocessing import OneHotEncoder\n",
        "\n",
        "train[\"WiderLocation\"] = train[\"Location\"].str.split(\",\").str[-1].str.strip()\n",
        "train[\"WiderLocation\"] = train[\"WiderLocation\"].replace(\"\", \"Unknown\").replace(\"unknown\", \"Unknown\")\n",
        "test[\"WiderLocation\"] = test[\"Location\"].str.split(\",\").str[-1].str.strip()\n",
        "test[\"WiderLocation\"] = test[\"WiderLocation\"].replace(\"\", \"Unknown\").replace(\"unknown\", \"Unknown\")\n",
        "\n",
        "location_counts = train[\"WiderLocation\"].value_counts()\n",
        "valid_locations = location_counts[location_counts > 1].index.tolist()\n",
        "print(f\"Количество локаций, встречающихся более 1 раза: {len(valid_locations)}\")\n",
        "\n",
        "encoder = OneHotEncoder(categories=[valid_locations], handle_unknown='ignore', sparse_output=True)\n",
        "ohe_loc_train = encoder.fit_transform(train[['WiderLocation']])\n",
        "ohe_loc_test = encoder.fit_transform(test[['WiderLocation']])"
      ],
      "metadata": {
        "id": "SeJBfBWgPvg_",
        "outputId": "2d5a5850-58ee-47c1-e272-55ff398e694f",
        "colab": {
          "base_uri": "https://localhost:8080/"
        }
      },
      "execution_count": 58,
      "outputs": [
        {
          "output_type": "stream",
          "name": "stdout",
          "text": [
            "Количество локаций, встречающихся более 1 раза: 987\n"
          ]
        }
      ]
    },
    {
      "cell_type": "markdown",
      "source": [
        "Добавьте этот признак к матрице отскалированных текстовых признаков, обучите логистическую регрессию, замерьте качество. Как оно изменилось? Оказался ли признак полезным?\n",
        "\n",
        "\n",
        "*Подсказка:* используйте параметр `categories` в энкодере."
      ],
      "metadata": {
        "id": "ZyMX5kZuimPK"
      }
    },
    {
      "cell_type": "code",
      "source": [
        "\n",
        "from scipy.sparse import hstack\n",
        "\n",
        "X_train_text = cv_df.fit_transform(train['OriginalTweet'])\n",
        "X_test_text = cv_df.transform(test['OriginalTweet'])\n",
        "y_train = train['Sentiment']\n",
        "y_test = test['Sentiment']\n",
        "\n",
        "scaler = StandardScaler(with_mean=False)\n",
        "X_train_text_scaled = scaler.fit_transform(X_train_text)\n",
        "X_test_text_scaled = scaler.transform(X_test_text)\n",
        "\n",
        "X_train_full = hstack([X_train_text_scaled, ohe_loc_train])\n",
        "X_test_full = hstack([X_test_text_scaled, ohe_loc_test])\n",
        "\n",
        "lr = LogisticRegression(random_state=66)\n",
        "lr.fit(X_train_full, y_train)\n",
        "\n",
        "y_pred_train = lr.predict(X_train_full)\n",
        "y_pred_test = lr.predict(X_test_full)\n",
        "print(f\"Accuracy на тренировочной выборке: {accuracy_score(y_train, y_pred_train)}\")\n",
        "print(f\"Accuracy на тестовой выборке: {accuracy_score(y_test, y_pred_test)}\")\n"
      ],
      "metadata": {
        "id": "EO1jNPeeim7A",
        "colab": {
          "base_uri": "https://localhost:8080/"
        },
        "outputId": "a55af5a9-d774-4548-a94b-d74783ffd654"
      },
      "execution_count": 59,
      "outputs": [
        {
          "output_type": "stream",
          "name": "stderr",
          "text": [
            "/usr/local/lib/python3.11/dist-packages/sklearn/feature_extraction/text.py:517: UserWarning: The parameter 'token_pattern' will not be used since 'tokenizer' is not None'\n",
            "  warnings.warn(\n"
          ]
        },
        {
          "output_type": "stream",
          "name": "stdout",
          "text": [
            "Accuracy на тренировочной выборке: 0.9448526270824434\n",
            "Accuracy на тестовой выборке: 0.8448275862068966\n"
          ]
        },
        {
          "output_type": "stream",
          "name": "stderr",
          "text": [
            "/usr/local/lib/python3.11/dist-packages/sklearn/linear_model/_logistic.py:465: ConvergenceWarning: lbfgs failed to converge (status=1):\n",
            "STOP: TOTAL NO. OF ITERATIONS REACHED LIMIT.\n",
            "\n",
            "Increase the number of iterations (max_iter) or scale the data as shown in:\n",
            "    https://scikit-learn.org/stable/modules/preprocessing.html\n",
            "Please also refer to the documentation for alternative solver options:\n",
            "    https://scikit-learn.org/stable/modules/linear_model.html#logistic-regression\n",
            "  n_iter_i = _check_optimize_result(\n"
          ]
        }
      ]
    },
    {
      "cell_type": "markdown",
      "source": [
        "**Ответ:** Качество модели почти не изменилось, значит, признак оказался бесполезным"
      ],
      "metadata": {
        "id": "7dHsGlDRYUQt"
      }
    }
  ],
  "metadata": {
    "colab": {
      "provenance": []
    },
    "kernelspec": {
      "display_name": "Python 3",
      "name": "python3"
    },
    "language_info": {
      "name": "python"
    }
  },
  "nbformat": 4,
  "nbformat_minor": 0
}